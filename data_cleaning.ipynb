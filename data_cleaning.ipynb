{
 "cells": [
  {
   "cell_type": "markdown",
   "metadata": {},
   "source": [
    "## Data Preprocessing"
   ]
  },
  {
   "cell_type": "code",
   "execution_count": 1,
   "metadata": {},
   "outputs": [],
   "source": [
    "import pandas as pd"
   ]
  },
  {
   "cell_type": "code",
   "execution_count": 5,
   "metadata": {},
   "outputs": [
    {
     "data": {
      "text/html": [
       "<div>\n",
       "<style scoped>\n",
       "    .dataframe tbody tr th:only-of-type {\n",
       "        vertical-align: middle;\n",
       "    }\n",
       "\n",
       "    .dataframe tbody tr th {\n",
       "        vertical-align: top;\n",
       "    }\n",
       "\n",
       "    .dataframe thead th {\n",
       "        text-align: right;\n",
       "    }\n",
       "</style>\n",
       "<table border=\"1\" class=\"dataframe\">\n",
       "  <thead>\n",
       "    <tr style=\"text-align: right;\">\n",
       "      <th></th>\n",
       "      <th>id</th>\n",
       "      <th>submission_title</th>\n",
       "      <th>submission_text</th>\n",
       "      <th>author</th>\n",
       "      <th>body</th>\n",
       "      <th>depth</th>\n",
       "      <th>parent_id</th>\n",
       "      <th>score</th>\n",
       "      <th>subreddit_name_prefixed</th>\n",
       "    </tr>\n",
       "  </thead>\n",
       "  <tbody>\n",
       "    <tr>\n",
       "      <th>0</th>\n",
       "      <td>d4xury6</td>\n",
       "      <td>I got my contraceptive implant, Implanon, last...</td>\n",
       "      <td>**UPDATED September 26, 2018; scroll down**\\r\\...</td>\n",
       "      <td>Ryvaeus</td>\n",
       "      <td>No questions, just wanted to thank you for pos...</td>\n",
       "      <td>0</td>\n",
       "      <td>t3_4r2tl4</td>\n",
       "      <td>31</td>\n",
       "      <td>r/Philippines</td>\n",
       "    </tr>\n",
       "    <tr>\n",
       "      <th>1</th>\n",
       "      <td>d4yi9y9</td>\n",
       "      <td>I got my contraceptive implant, Implanon, last...</td>\n",
       "      <td>**UPDATED September 26, 2018; scroll down**\\r\\...</td>\n",
       "      <td>Somebody_over_there</td>\n",
       "      <td>Holy shit thank you so much!     \\r\\nAs someon...</td>\n",
       "      <td>0</td>\n",
       "      <td>t3_4r2tl4</td>\n",
       "      <td>7</td>\n",
       "      <td>r/Philippines</td>\n",
       "    </tr>\n",
       "    <tr>\n",
       "      <th>2</th>\n",
       "      <td>d4yhm4h</td>\n",
       "      <td>I got my contraceptive implant, Implanon, last...</td>\n",
       "      <td>**UPDATED September 26, 2018; scroll down**\\r\\...</td>\n",
       "      <td>PotatoMurderer</td>\n",
       "      <td>&gt; people there are nice and friendly; super no...</td>\n",
       "      <td>0</td>\n",
       "      <td>t3_4r2tl4</td>\n",
       "      <td>7</td>\n",
       "      <td>r/Philippines</td>\n",
       "    </tr>\n",
       "    <tr>\n",
       "      <th>3</th>\n",
       "      <td>d4yjcsv</td>\n",
       "      <td>I got my contraceptive implant, Implanon, last...</td>\n",
       "      <td>**UPDATED September 26, 2018; scroll down**\\r\\...</td>\n",
       "      <td>daspork</td>\n",
       "      <td>Welcome to your life not being controlled by t...</td>\n",
       "      <td>0</td>\n",
       "      <td>t3_4r2tl4</td>\n",
       "      <td>4</td>\n",
       "      <td>r/Philippines</td>\n",
       "    </tr>\n",
       "    <tr>\n",
       "      <th>4</th>\n",
       "      <td>d4y6a75</td>\n",
       "      <td>I got my contraceptive implant, Implanon, last...</td>\n",
       "      <td>**UPDATED September 26, 2018; scroll down**\\r\\...</td>\n",
       "      <td>SMAura</td>\n",
       "      <td>Have no to less period seems like a really goo...</td>\n",
       "      <td>0</td>\n",
       "      <td>t3_4r2tl4</td>\n",
       "      <td>7</td>\n",
       "      <td>r/Philippines</td>\n",
       "    </tr>\n",
       "  </tbody>\n",
       "</table>\n",
       "</div>"
      ],
      "text/plain": [
       "        id                                   submission_title  \\\n",
       "0  d4xury6  I got my contraceptive implant, Implanon, last...   \n",
       "1  d4yi9y9  I got my contraceptive implant, Implanon, last...   \n",
       "2  d4yhm4h  I got my contraceptive implant, Implanon, last...   \n",
       "3  d4yjcsv  I got my contraceptive implant, Implanon, last...   \n",
       "4  d4y6a75  I got my contraceptive implant, Implanon, last...   \n",
       "\n",
       "                                     submission_text               author  \\\n",
       "0  **UPDATED September 26, 2018; scroll down**\\r\\...              Ryvaeus   \n",
       "1  **UPDATED September 26, 2018; scroll down**\\r\\...  Somebody_over_there   \n",
       "2  **UPDATED September 26, 2018; scroll down**\\r\\...       PotatoMurderer   \n",
       "3  **UPDATED September 26, 2018; scroll down**\\r\\...              daspork   \n",
       "4  **UPDATED September 26, 2018; scroll down**\\r\\...               SMAura   \n",
       "\n",
       "                                                body  depth  parent_id  score  \\\n",
       "0  No questions, just wanted to thank you for pos...      0  t3_4r2tl4     31   \n",
       "1  Holy shit thank you so much!     \\r\\nAs someon...      0  t3_4r2tl4      7   \n",
       "2  > people there are nice and friendly; super no...      0  t3_4r2tl4      7   \n",
       "3  Welcome to your life not being controlled by t...      0  t3_4r2tl4      4   \n",
       "4  Have no to less period seems like a really goo...      0  t3_4r2tl4      7   \n",
       "\n",
       "  subreddit_name_prefixed  \n",
       "0           r/Philippines  \n",
       "1           r/Philippines  \n",
       "2           r/Philippines  \n",
       "3           r/Philippines  \n",
       "4           r/Philippines  "
      ]
     },
     "execution_count": 5,
     "metadata": {},
     "output_type": "execute_result"
    }
   ],
   "source": [
    "data = pd.read_csv('dataset.csv')\n",
    "data.head()"
   ]
  },
  {
   "cell_type": "code",
   "execution_count": 12,
   "metadata": {},
   "outputs": [
    {
     "data": {
      "text/plain": [
       "3342"
      ]
     },
     "execution_count": 12,
     "metadata": {},
     "output_type": "execute_result"
    }
   ],
   "source": [
    "# data['body'][0]\n",
    "data.shape[0]"
   ]
  },
  {
   "cell_type": "markdown",
   "metadata": {},
   "source": [
    "#### Removing Rows"
   ]
  },
  {
   "cell_type": "code",
   "execution_count": 44,
   "metadata": {},
   "outputs": [
    {
     "data": {
      "text/plain": [
       "3264"
      ]
     },
     "execution_count": 44,
     "metadata": {},
     "output_type": "execute_result"
    }
   ],
   "source": [
    "reviewed = data.copy()\n",
    "reviewed = reviewed[reviewed.body != '[deleted]']\n",
    "reviewed = reviewed[reviewed.body != '[removed]']\n",
    "reviewed.shape[0]"
   ]
  },
  {
   "cell_type": "code",
   "execution_count": 45,
   "metadata": {},
   "outputs": [
    {
     "data": {
      "text/html": [
       "<div>\n",
       "<style scoped>\n",
       "    .dataframe tbody tr th:only-of-type {\n",
       "        vertical-align: middle;\n",
       "    }\n",
       "\n",
       "    .dataframe tbody tr th {\n",
       "        vertical-align: top;\n",
       "    }\n",
       "\n",
       "    .dataframe thead th {\n",
       "        text-align: right;\n",
       "    }\n",
       "</style>\n",
       "<table border=\"1\" class=\"dataframe\">\n",
       "  <thead>\n",
       "    <tr style=\"text-align: right;\">\n",
       "      <th></th>\n",
       "      <th>id</th>\n",
       "      <th>submission_title</th>\n",
       "      <th>submission_text</th>\n",
       "      <th>author</th>\n",
       "      <th>body</th>\n",
       "      <th>depth</th>\n",
       "      <th>parent_id</th>\n",
       "      <th>score</th>\n",
       "      <th>subreddit_name_prefixed</th>\n",
       "      <th>length</th>\n",
       "    </tr>\n",
       "  </thead>\n",
       "  <tbody>\n",
       "    <tr>\n",
       "      <th>0</th>\n",
       "      <td>d4xury6</td>\n",
       "      <td>I got my contraceptive implant, Implanon, last...</td>\n",
       "      <td>**UPDATED September 26, 2018; scroll down**\\r\\...</td>\n",
       "      <td>Ryvaeus</td>\n",
       "      <td>No questions, just wanted to thank you for pos...</td>\n",
       "      <td>0</td>\n",
       "      <td>t3_4r2tl4</td>\n",
       "      <td>31</td>\n",
       "      <td>r/Philippines</td>\n",
       "      <td>245</td>\n",
       "    </tr>\n",
       "    <tr>\n",
       "      <th>1</th>\n",
       "      <td>d4yi9y9</td>\n",
       "      <td>I got my contraceptive implant, Implanon, last...</td>\n",
       "      <td>**UPDATED September 26, 2018; scroll down**\\r\\...</td>\n",
       "      <td>Somebody_over_there</td>\n",
       "      <td>Holy shit thank you so much!     \\r\\nAs someon...</td>\n",
       "      <td>0</td>\n",
       "      <td>t3_4r2tl4</td>\n",
       "      <td>7</td>\n",
       "      <td>r/Philippines</td>\n",
       "      <td>393</td>\n",
       "    </tr>\n",
       "    <tr>\n",
       "      <th>2</th>\n",
       "      <td>d4yhm4h</td>\n",
       "      <td>I got my contraceptive implant, Implanon, last...</td>\n",
       "      <td>**UPDATED September 26, 2018; scroll down**\\r\\...</td>\n",
       "      <td>PotatoMurderer</td>\n",
       "      <td>&gt; people there are nice and friendly; super no...</td>\n",
       "      <td>0</td>\n",
       "      <td>t3_4r2tl4</td>\n",
       "      <td>7</td>\n",
       "      <td>r/Philippines</td>\n",
       "      <td>507</td>\n",
       "    </tr>\n",
       "    <tr>\n",
       "      <th>3</th>\n",
       "      <td>d4yjcsv</td>\n",
       "      <td>I got my contraceptive implant, Implanon, last...</td>\n",
       "      <td>**UPDATED September 26, 2018; scroll down**\\r\\...</td>\n",
       "      <td>daspork</td>\n",
       "      <td>Welcome to your life not being controlled by t...</td>\n",
       "      <td>0</td>\n",
       "      <td>t3_4r2tl4</td>\n",
       "      <td>4</td>\n",
       "      <td>r/Philippines</td>\n",
       "      <td>75</td>\n",
       "    </tr>\n",
       "    <tr>\n",
       "      <th>4</th>\n",
       "      <td>d4y6a75</td>\n",
       "      <td>I got my contraceptive implant, Implanon, last...</td>\n",
       "      <td>**UPDATED September 26, 2018; scroll down**\\r\\...</td>\n",
       "      <td>SMAura</td>\n",
       "      <td>Have no to less period seems like a really goo...</td>\n",
       "      <td>0</td>\n",
       "      <td>t3_4r2tl4</td>\n",
       "      <td>7</td>\n",
       "      <td>r/Philippines</td>\n",
       "      <td>119</td>\n",
       "    </tr>\n",
       "  </tbody>\n",
       "</table>\n",
       "</div>"
      ],
      "text/plain": [
       "        id                                   submission_title  \\\n",
       "0  d4xury6  I got my contraceptive implant, Implanon, last...   \n",
       "1  d4yi9y9  I got my contraceptive implant, Implanon, last...   \n",
       "2  d4yhm4h  I got my contraceptive implant, Implanon, last...   \n",
       "3  d4yjcsv  I got my contraceptive implant, Implanon, last...   \n",
       "4  d4y6a75  I got my contraceptive implant, Implanon, last...   \n",
       "\n",
       "                                     submission_text               author  \\\n",
       "0  **UPDATED September 26, 2018; scroll down**\\r\\...              Ryvaeus   \n",
       "1  **UPDATED September 26, 2018; scroll down**\\r\\...  Somebody_over_there   \n",
       "2  **UPDATED September 26, 2018; scroll down**\\r\\...       PotatoMurderer   \n",
       "3  **UPDATED September 26, 2018; scroll down**\\r\\...              daspork   \n",
       "4  **UPDATED September 26, 2018; scroll down**\\r\\...               SMAura   \n",
       "\n",
       "                                                body  depth  parent_id  score  \\\n",
       "0  No questions, just wanted to thank you for pos...      0  t3_4r2tl4     31   \n",
       "1  Holy shit thank you so much!     \\r\\nAs someon...      0  t3_4r2tl4      7   \n",
       "2  > people there are nice and friendly; super no...      0  t3_4r2tl4      7   \n",
       "3  Welcome to your life not being controlled by t...      0  t3_4r2tl4      4   \n",
       "4  Have no to less period seems like a really goo...      0  t3_4r2tl4      7   \n",
       "\n",
       "  subreddit_name_prefixed  length  \n",
       "0           r/Philippines     245  \n",
       "1           r/Philippines     393  \n",
       "2           r/Philippines     507  \n",
       "3           r/Philippines      75  \n",
       "4           r/Philippines     119  "
      ]
     },
     "execution_count": 45,
     "metadata": {},
     "output_type": "execute_result"
    }
   ],
   "source": [
    "reviewed['length'] = reviewed['body'].apply(len)\n",
    "reviewed.head()"
   ]
  },
  {
   "cell_type": "code",
   "execution_count": 47,
   "metadata": {},
   "outputs": [
    {
     "data": {
      "text/plain": [
       "count    3264.000000\n",
       "mean      201.250919\n",
       "std       273.124179\n",
       "min         1.000000\n",
       "25%        50.000000\n",
       "50%       113.000000\n",
       "75%       251.000000\n",
       "max      3381.000000\n",
       "Name: length, dtype: float64"
      ]
     },
     "execution_count": 47,
     "metadata": {},
     "output_type": "execute_result"
    }
   ],
   "source": [
    "reviewed['length'].describe()"
   ]
  },
  {
   "cell_type": "code",
   "execution_count": 48,
   "metadata": {},
   "outputs": [
    {
     "data": {
      "text/plain": [
       "1013"
      ]
     },
     "execution_count": 48,
     "metadata": {},
     "output_type": "execute_result"
    }
   ],
   "source": [
    "reviewed = reviewed[reviewed.length >= 200]\n",
    "reviewed.shape[0]"
   ]
  },
  {
   "cell_type": "markdown",
   "metadata": {},
   "source": [
    "#### Data Cleaning"
   ]
  },
  {
   "cell_type": "markdown",
   "metadata": {},
   "source": [
    "##### Expanding Contractions"
   ]
  },
  {
   "cell_type": "code",
   "execution_count": null,
   "metadata": {},
   "outputs": [],
   "source": []
  },
  {
   "cell_type": "code",
   "execution_count": null,
   "metadata": {},
   "outputs": [],
   "source": []
  },
  {
   "cell_type": "code",
   "execution_count": null,
   "metadata": {},
   "outputs": [],
   "source": []
  }
 ],
 "metadata": {
  "kernelspec": {
   "display_name": "Python 3",
   "language": "python",
   "name": "python3"
  },
  "language_info": {
   "codemirror_mode": {
    "name": "ipython",
    "version": 3
   },
   "file_extension": ".py",
   "mimetype": "text/x-python",
   "name": "python",
   "nbconvert_exporter": "python",
   "pygments_lexer": "ipython3",
   "version": "3.7.3"
  }
 },
 "nbformat": 4,
 "nbformat_minor": 2
}
