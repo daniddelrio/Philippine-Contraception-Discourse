{
 "cells": [
  {
   "cell_type": "code",
   "execution_count": 2,
   "metadata": {},
   "outputs": [
    {
     "name": "stderr",
     "output_type": "stream",
     "text": [
      "Using TensorFlow backend.\n"
     ]
    }
   ],
   "source": [
    "import numpy as np # linear algebra\n",
    "import pandas as pd # data processing, CSV file I/O (e.g. pd.read_csv)\n",
    "from keras.layers import Dense, Embedding, LSTM, SpatialDropout1D\n",
    "from keras.models import Sequential\n",
    "from sklearn.feature_extraction.text import CountVectorizer\n",
    "from keras.preprocessing.text import Tokenizer\n",
    "from keras.preprocessing.sequence import pad_sequences\n",
    "from sklearn.model_selection import train_test_split\n",
    "from keras.utils.np_utils import to_categorical\n",
    "from keras.callbacks import EarlyStopping"
   ]
  },
  {
   "cell_type": "code",
   "execution_count": 3,
   "metadata": {},
   "outputs": [],
   "source": [
    "data = pd.read_csv('labelled_dataset.csv',index_col=0)"
   ]
  },
  {
   "cell_type": "code",
   "execution_count": 4,
   "metadata": {},
   "outputs": [
    {
     "data": {
      "text/html": [
       "<div>\n",
       "<style scoped>\n",
       "    .dataframe tbody tr th:only-of-type {\n",
       "        vertical-align: middle;\n",
       "    }\n",
       "\n",
       "    .dataframe tbody tr th {\n",
       "        vertical-align: top;\n",
       "    }\n",
       "\n",
       "    .dataframe thead th {\n",
       "        text-align: right;\n",
       "    }\n",
       "</style>\n",
       "<table border=\"1\" class=\"dataframe\">\n",
       "  <thead>\n",
       "    <tr style=\"text-align: right;\">\n",
       "      <th></th>\n",
       "      <th>labels</th>\n",
       "      <th>body</th>\n",
       "      <th>parent</th>\n",
       "      <th>submission</th>\n",
       "    </tr>\n",
       "  </thead>\n",
       "  <tbody>\n",
       "    <tr>\n",
       "      <th>0</th>\n",
       "      <td>supporting</td>\n",
       "      <td>no question want thank post topic birth contro...</td>\n",
       "      <td>updated september scroll downhi lengthy post c...</td>\n",
       "      <td>updated september scroll downhi lengthy post c...</td>\n",
       "    </tr>\n",
       "    <tr>\n",
       "      <th>1</th>\n",
       "      <td>supporting</td>\n",
       "      <td>holy shit thank much someone recently turn sup...</td>\n",
       "      <td>updated september scroll downhi lengthy post c...</td>\n",
       "      <td>updated september scroll downhi lengthy post c...</td>\n",
       "    </tr>\n",
       "  </tbody>\n",
       "</table>\n",
       "</div>"
      ],
      "text/plain": [
       "       labels                                               body  \\\n",
       "0  supporting  no question want thank post topic birth contro...   \n",
       "1  supporting  holy shit thank much someone recently turn sup...   \n",
       "\n",
       "                                              parent  \\\n",
       "0  updated september scroll downhi lengthy post c...   \n",
       "1  updated september scroll downhi lengthy post c...   \n",
       "\n",
       "                                          submission  \n",
       "0  updated september scroll downhi lengthy post c...  \n",
       "1  updated september scroll downhi lengthy post c...  "
      ]
     },
     "execution_count": 4,
     "metadata": {},
     "output_type": "execute_result"
    }
   ],
   "source": [
    "data.head(2)"
   ]
  },
  {
   "cell_type": "code",
   "execution_count": 5,
   "metadata": {},
   "outputs": [
    {
     "data": {
      "text/plain": [
       "commenting     614\n",
       "supporting     299\n",
       "denying        137\n",
       "questioning    105\n",
       "Name: labels, dtype: int64"
      ]
     },
     "execution_count": 5,
     "metadata": {},
     "output_type": "execute_result"
    }
   ],
   "source": [
    "data.labels.value_counts()"
   ]
  },
  {
   "cell_type": "code",
   "execution_count": 56,
   "metadata": {},
   "outputs": [],
   "source": [
    "# label weights\n",
    "c = 13.5\n",
    "s = 30.0\n",
    "d = 70.0\n",
    "q = 70.0"
   ]
  },
  {
   "cell_type": "code",
   "execution_count": 57,
   "metadata": {},
   "outputs": [],
   "source": [
    "data.loc[data['labels'] == 'supporting', 'labels'] = 0\n",
    "data.loc[data['labels'] == 'denying', 'labels'] = 1\n",
    "data.loc[data['labels'] == 'questioning', 'labels'] = 2\n",
    "data.loc[data['labels'] == 'commenting', 'labels'] = 3"
   ]
  },
  {
   "cell_type": "code",
   "execution_count": 58,
   "metadata": {},
   "outputs": [
    {
     "data": {
      "text/html": [
       "<div>\n",
       "<style scoped>\n",
       "    .dataframe tbody tr th:only-of-type {\n",
       "        vertical-align: middle;\n",
       "    }\n",
       "\n",
       "    .dataframe tbody tr th {\n",
       "        vertical-align: top;\n",
       "    }\n",
       "\n",
       "    .dataframe thead th {\n",
       "        text-align: right;\n",
       "    }\n",
       "</style>\n",
       "<table border=\"1\" class=\"dataframe\">\n",
       "  <thead>\n",
       "    <tr style=\"text-align: right;\">\n",
       "      <th></th>\n",
       "      <th>labels</th>\n",
       "      <th>body</th>\n",
       "      <th>parent</th>\n",
       "      <th>submission</th>\n",
       "    </tr>\n",
       "  </thead>\n",
       "  <tbody>\n",
       "    <tr>\n",
       "      <th>0</th>\n",
       "      <td>0</td>\n",
       "      <td>no question want thank post topic birth contro...</td>\n",
       "      <td>updated september scroll downhi lengthy post c...</td>\n",
       "      <td>updated september scroll downhi lengthy post c...</td>\n",
       "    </tr>\n",
       "    <tr>\n",
       "      <th>1</th>\n",
       "      <td>0</td>\n",
       "      <td>holy shit thank much someone recently turn sup...</td>\n",
       "      <td>updated september scroll downhi lengthy post c...</td>\n",
       "      <td>updated september scroll downhi lengthy post c...</td>\n",
       "    </tr>\n",
       "  </tbody>\n",
       "</table>\n",
       "</div>"
      ],
      "text/plain": [
       "  labels                                               body  \\\n",
       "0      0  no question want thank post topic birth contro...   \n",
       "1      0  holy shit thank much someone recently turn sup...   \n",
       "\n",
       "                                              parent  \\\n",
       "0  updated september scroll downhi lengthy post c...   \n",
       "1  updated september scroll downhi lengthy post c...   \n",
       "\n",
       "                                          submission  \n",
       "0  updated september scroll downhi lengthy post c...  \n",
       "1  updated september scroll downhi lengthy post c...  "
      ]
     },
     "execution_count": 58,
     "metadata": {},
     "output_type": "execute_result"
    }
   ],
   "source": [
    "data.head(2)"
   ]
  },
  {
   "cell_type": "code",
   "execution_count": 59,
   "metadata": {},
   "outputs": [
    {
     "data": {
      "text/plain": [
       "array([[1., 0., 0., 0.],\n",
       "       [1., 0., 0., 0.],\n",
       "       [0., 0., 0., 1.],\n",
       "       ...,\n",
       "       [0., 0., 0., 1.],\n",
       "       [0., 0., 0., 1.],\n",
       "       [0., 0., 0., 1.]], dtype=float32)"
      ]
     },
     "execution_count": 59,
     "metadata": {},
     "output_type": "execute_result"
    }
   ],
   "source": [
    "labels = to_categorical(data['labels'], num_classes=4)\n",
    "labels"
   ]
  },
  {
   "cell_type": "code",
   "execution_count": 60,
   "metadata": {},
   "outputs": [
    {
     "name": "stdout",
     "output_type": "stream",
     "text": [
      "Found 4810 unique tokens.\n"
     ]
    }
   ],
   "source": [
    "n_most_common_words = 8000\n",
    "max_len = 130\n",
    "tokenizer = Tokenizer(num_words=n_most_common_words, filters='!\"#$%&()*+,-./:;<=>?@[\\]^_`{|}~', lower=True)\n",
    "tokenizer.fit_on_texts(data['body'].values)\n",
    "sequences = tokenizer.texts_to_sequences(data['body'].values)\n",
    "word_index = tokenizer.word_index\n",
    "print('Found %s unique tokens.' % len(word_index))\n",
    "\n",
    "X = pad_sequences(sequences, maxlen=max_len)"
   ]
  },
  {
   "cell_type": "code",
   "execution_count": null,
   "metadata": {},
   "outputs": [],
   "source": []
  },
  {
   "cell_type": "code",
   "execution_count": 61,
   "metadata": {},
   "outputs": [],
   "source": [
    "X_train, X_test, y_train, y_test = train_test_split(X , labels, test_size=0.25, random_state=42)"
   ]
  },
  {
   "cell_type": "code",
   "execution_count": 62,
   "metadata": {},
   "outputs": [
    {
     "data": {
      "text/plain": [
       "array([[1., 0., 0., 0.],\n",
       "       [1., 0., 0., 0.]], dtype=float32)"
      ]
     },
     "execution_count": 62,
     "metadata": {},
     "output_type": "execute_result"
    }
   ],
   "source": [
    "epochs = 100\n",
    "emb_dim = 128\n",
    "batch_size = 32\n",
    "labels[:2]"
   ]
  },
  {
   "cell_type": "code",
   "execution_count": 63,
   "metadata": {},
   "outputs": [
    {
     "name": "stdout",
     "output_type": "stream",
     "text": [
      "_________________________________________________________________\n",
      "Layer (type)                 Output Shape              Param #   \n",
      "=================================================================\n",
      "embedding_3 (Embedding)      (None, 130, 128)          1024000   \n",
      "_________________________________________________________________\n",
      "spatial_dropout1d_3 (Spatial (None, 130, 128)          0         \n",
      "_________________________________________________________________\n",
      "lstm_3 (LSTM)                (None, 64)                49408     \n",
      "_________________________________________________________________\n",
      "dense_3 (Dense)              (None, 4)                 260       \n",
      "=================================================================\n",
      "Total params: 1,073,668\n",
      "Trainable params: 1,073,668\n",
      "Non-trainable params: 0\n",
      "_________________________________________________________________\n",
      "None\n",
      "Train on 692 samples, validate on 174 samples\n",
      "Epoch 1/100\n",
      "692/692 [==============================] - 5s 7ms/step - loss: 39.7596 - acc: 0.2948 - val_loss: 38.8896 - val_acc: 0.2816\n",
      "Epoch 2/100\n",
      "692/692 [==============================] - 3s 4ms/step - loss: 39.7906 - acc: 0.3006 - val_loss: 38.7300 - val_acc: 0.4540\n",
      "Epoch 3/100\n",
      "692/692 [==============================] - 3s 5ms/step - loss: 39.6159 - acc: 0.3367 - val_loss: 38.6005 - val_acc: 0.4943\n",
      "Epoch 4/100\n",
      "692/692 [==============================] - 3s 4ms/step - loss: 39.2986 - acc: 0.4292 - val_loss: 38.5284 - val_acc: 0.5115\n",
      "Epoch 5/100\n",
      "692/692 [==============================] - 3s 4ms/step - loss: 39.1508 - acc: 0.3829 - val_loss: 38.3243 - val_acc: 0.3448\n",
      "Epoch 6/100\n",
      "692/692 [==============================] - 3s 4ms/step - loss: 38.6674 - acc: 0.4205 - val_loss: 38.2273 - val_acc: 0.4770\n",
      "Epoch 7/100\n",
      "692/692 [==============================] - 3s 5ms/step - loss: 38.3599 - acc: 0.4841 - val_loss: 38.0167 - val_acc: 0.4483\n",
      "Epoch 8/100\n",
      "692/692 [==============================] - 3s 4ms/step - loss: 37.3857 - acc: 0.5029 - val_loss: 37.7134 - val_acc: 0.4598\n",
      "Epoch 9/100\n",
      "692/692 [==============================] - 3s 4ms/step - loss: 36.5433 - acc: 0.5072 - val_loss: 37.3865 - val_acc: 0.4195\n",
      "Epoch 10/100\n",
      "692/692 [==============================] - 3s 4ms/step - loss: 36.0914 - acc: 0.5043 - val_loss: 36.9925 - val_acc: 0.4195\n",
      "Epoch 11/100\n",
      "692/692 [==============================] - 3s 4ms/step - loss: 33.9989 - acc: 0.5506 - val_loss: 36.5558 - val_acc: 0.4425\n",
      "Epoch 12/100\n",
      "692/692 [==============================] - 3s 4ms/step - loss: 33.0907 - acc: 0.5592 - val_loss: 36.4003 - val_acc: 0.4943\n",
      "Epoch 13/100\n",
      "692/692 [==============================] - 3s 5ms/step - loss: 31.1063 - acc: 0.6113 - val_loss: 35.8921 - val_acc: 0.4943\n",
      "Epoch 14/100\n",
      "692/692 [==============================] - 3s 5ms/step - loss: 29.2422 - acc: 0.6503 - val_loss: 35.3455 - val_acc: 0.4770\n",
      "Epoch 15/100\n",
      "692/692 [==============================] - 3s 5ms/step - loss: 26.6171 - acc: 0.6647 - val_loss: 34.8485 - val_acc: 0.4713\n",
      "Epoch 16/100\n",
      "692/692 [==============================] - 4s 6ms/step - loss: 25.0369 - acc: 0.6922 - val_loss: 35.3380 - val_acc: 0.5172\n",
      "Epoch 17/100\n",
      "692/692 [==============================] - 3s 4ms/step - loss: 22.2094 - acc: 0.7384 - val_loss: 35.3916 - val_acc: 0.5230\n",
      "Epoch 18/100\n",
      "692/692 [==============================] - 4s 5ms/step - loss: 20.0751 - acc: 0.7630 - val_loss: 36.2255 - val_acc: 0.5460\n",
      "Epoch 19/100\n",
      "692/692 [==============================] - 3s 5ms/step - loss: 19.2628 - acc: 0.7572 - val_loss: 35.9155 - val_acc: 0.5345\n",
      "Epoch 20/100\n",
      "692/692 [==============================] - 3s 5ms/step - loss: 15.9015 - acc: 0.7962 - val_loss: 36.6807 - val_acc: 0.5460\n",
      "Epoch 21/100\n",
      "692/692 [==============================] - 3s 5ms/step - loss: 14.8393 - acc: 0.8251 - val_loss: 38.3257 - val_acc: 0.5460\n",
      "Epoch 22/100\n",
      "692/692 [==============================] - 3s 5ms/step - loss: 13.5843 - acc: 0.8613 - val_loss: 38.8455 - val_acc: 0.5575\n"
     ]
    }
   ],
   "source": [
    "model = Sequential()\n",
    "model.add(Embedding(n_most_common_words, emb_dim, input_length=X.shape[1]))\n",
    "model.add(SpatialDropout1D(0.7))\n",
    "model.add(LSTM(64, dropout=0.7, recurrent_dropout=0.7))\n",
    "model.add(Dense(4, activation='softmax'))\n",
    "model.compile(optimizer='adam', loss='categorical_crossentropy', metrics=['acc'])\n",
    "print(model.summary())\n",
    "history = model.fit(X_train, y_train, epochs=epochs, batch_size=batch_size,class_weight={0:s,1:d,2:q,3:c},validation_split=0.2,callbacks=[EarlyStopping(monitor='val_loss',patience=7, min_delta=0.0001)])"
   ]
  },
  {
   "cell_type": "code",
   "execution_count": 64,
   "metadata": {},
   "outputs": [
    {
     "name": "stdout",
     "output_type": "stream",
     "text": [
      "289/289 [==============================] - 0s 856us/step\n",
      "Test set\n",
      "  Loss: 1.097\n",
      "  Accuracy: 0.543\n"
     ]
    }
   ],
   "source": [
    "accr = model.evaluate(X_test,y_test)\n",
    "print('Test set\\n  Loss: {:0.3f}\\n  Accuracy: {:0.3f}'.format(accr[0],accr[1]))"
   ]
  },
  {
   "cell_type": "code",
   "execution_count": 65,
   "metadata": {},
   "outputs": [
    {
     "data": {
      "image/png": "[encoded data removed]",
      "text/plain": [
       "<Figure size 432x288 with 1 Axes>"
      ]
     },
     "metadata": {
      "needs_background": "light"
     },
     "output_type": "display_data"
    },
    {
     "data": {
      "image/png": "[encoded data removed]",
      "text/plain": [
       "<Figure size 432x288 with 1 Axes>"
      ]
     },
     "metadata": {
      "needs_background": "light"
     },
     "output_type": "display_data"
    }
   ],
   "source": [
    "import matplotlib.pyplot as plt\n",
    "\n",
    "acc = history.history['acc']\n",
    "val_acc = history.history['val_acc']\n",
    "loss = history.history['loss']\n",
    "val_loss = history.history['val_loss']\n",
    "\n",
    "epochs = range(1, len(acc) + 1)\n",
    "\n",
    "plt.plot(epochs, acc, 'bo', label='Training acc')\n",
    "plt.plot(epochs, val_acc, 'b', label='Validation acc')\n",
    "plt.title('Training and validation accuracy')\n",
    "plt.legend()\n",
    "\n",
    "plt.figure()\n",
    "\n",
    "plt.plot(epochs, loss, 'bo', label='Training loss')\n",
    "plt.plot(epochs, val_loss, 'b', label='Validation loss')\n",
    "plt.title('Training and validation loss')\n",
    "plt.legend()\n",
    "\n",
    "plt.show()"
   ]
  },
  {
   "cell_type": "code",
   "execution_count": 66,
   "metadata": {},
   "outputs": [],
   "source": [
    "pred = model.predict(X_test)"
   ]
  },
  {
   "cell_type": "code",
   "execution_count": 67,
   "metadata": {},
   "outputs": [],
   "source": [
    "ary = []\n",
    "lb = ['supporting', 'denying', 'questioning', 'commenting']\n",
    "for i in range(pred.shape[0]):\n",
    "    ary.append(lb[np.argmax(pred[i])])"
   ]
  },
  {
   "cell_type": "code",
   "execution_count": 68,
   "metadata": {},
   "outputs": [],
   "source": [
    "sup = [1.,0.,0.,0.]\n",
    "den = [0.,1.,0.,0.]\n",
    "que = [0.,0.,1.,0.]\n",
    "com = [0.,0.,0.,1.]"
   ]
  },
  {
   "cell_type": "code",
   "execution_count": 69,
   "metadata": {},
   "outputs": [
    {
     "data": {
      "text/plain": [
       "[0.0, 0.0, 0.0, 1.0]"
      ]
     },
     "execution_count": 69,
     "metadata": {},
     "output_type": "execute_result"
    }
   ],
   "source": [
    "list(y_test[0])"
   ]
  },
  {
   "cell_type": "code",
   "execution_count": 70,
   "metadata": {},
   "outputs": [],
   "source": [
    "test = []\n",
    "for i in range(y_test.shape[0]):\n",
    "    if( list(y_test[i]) == sup ):\n",
    "        test.append('supporting')\n",
    "    elif( list(y_test[i]) == den ):\n",
    "        test.append('denying')\n",
    "    elif( list(y_test[i]) == que ):\n",
    "        test.append('questioning')\n",
    "    else:\n",
    "        test.append('commenting')\n"
   ]
  },
  {
   "cell_type": "code",
   "execution_count": 71,
   "metadata": {},
   "outputs": [],
   "source": [
    "results = pd.DataFrame(test)\n",
    "results.columns = ['test']\n",
    "results['predictions'] = ary"
   ]
  },
  {
   "cell_type": "code",
   "execution_count": 72,
   "metadata": {},
   "outputs": [
    {
     "data": {
      "text/html": [
       "<div>\n",
       "<style scoped>\n",
       "    .dataframe tbody tr th:only-of-type {\n",
       "        vertical-align: middle;\n",
       "    }\n",
       "\n",
       "    .dataframe tbody tr th {\n",
       "        vertical-align: top;\n",
       "    }\n",
       "\n",
       "    .dataframe thead th {\n",
       "        text-align: right;\n",
       "    }\n",
       "</style>\n",
       "<table border=\"1\" class=\"dataframe\">\n",
       "  <thead>\n",
       "    <tr style=\"text-align: right;\">\n",
       "      <th></th>\n",
       "      <th>test</th>\n",
       "      <th>predictions</th>\n",
       "    </tr>\n",
       "  </thead>\n",
       "  <tbody>\n",
       "    <tr>\n",
       "      <th>0</th>\n",
       "      <td>commenting</td>\n",
       "      <td>commenting</td>\n",
       "    </tr>\n",
       "    <tr>\n",
       "      <th>1</th>\n",
       "      <td>commenting</td>\n",
       "      <td>questioning</td>\n",
       "    </tr>\n",
       "    <tr>\n",
       "      <th>2</th>\n",
       "      <td>commenting</td>\n",
       "      <td>commenting</td>\n",
       "    </tr>\n",
       "    <tr>\n",
       "      <th>3</th>\n",
       "      <td>denying</td>\n",
       "      <td>commenting</td>\n",
       "    </tr>\n",
       "    <tr>\n",
       "      <th>4</th>\n",
       "      <td>denying</td>\n",
       "      <td>denying</td>\n",
       "    </tr>\n",
       "  </tbody>\n",
       "</table>\n",
       "</div>"
      ],
      "text/plain": [
       "         test  predictions\n",
       "0  commenting   commenting\n",
       "1  commenting  questioning\n",
       "2  commenting   commenting\n",
       "3     denying   commenting\n",
       "4     denying      denying"
      ]
     },
     "execution_count": 72,
     "metadata": {},
     "output_type": "execute_result"
    }
   ],
   "source": [
    "results.head()"
   ]
  },
  {
   "cell_type": "code",
   "execution_count": 73,
   "metadata": {},
   "outputs": [
    {
     "data": {
      "text/plain": [
       "<matplotlib.axes._subplots.AxesSubplot at 0x1bc02051c50>"
      ]
     },
     "execution_count": 73,
     "metadata": {},
     "output_type": "execute_result"
    },
    {
     "data": {
      "image/png": "[encoded data removed]",
      "text/plain": [
       "<Figure size 432x288 with 1 Axes>"
      ]
     },
     "metadata": {
      "needs_background": "light"
     },
     "output_type": "display_data"
    }
   ],
   "source": [
    "results.predictions.value_counts().plot(kind='bar')"
   ]
  },
  {
   "cell_type": "code",
   "execution_count": 74,
   "metadata": {},
   "outputs": [
    {
     "data": {
      "text/plain": [
       "commenting     157\n",
       "supporting      77\n",
       "questioning     30\n",
       "denying         25\n",
       "Name: predictions, dtype: int64"
      ]
     },
     "execution_count": 74,
     "metadata": {},
     "output_type": "execute_result"
    }
   ],
   "source": [
    "results.predictions.value_counts()"
   ]
  },
  {
   "cell_type": "code",
   "execution_count": 75,
   "metadata": {},
   "outputs": [],
   "source": [
    "correct = []\n",
    "for i in range(results.shape[0]):\n",
    "    ans = False\n",
    "    if(results['test'][i] ==  results['predictions'][i]):\n",
    "        ans = True\n",
    "    correct.append(ans)\n",
    "results['result'] = correct"
   ]
  },
  {
   "cell_type": "code",
   "execution_count": 76,
   "metadata": {},
   "outputs": [
    {
     "data": {
      "text/plain": [
       "True     157\n",
       "False    132\n",
       "Name: result, dtype: int64"
      ]
     },
     "execution_count": 76,
     "metadata": {},
     "output_type": "execute_result"
    }
   ],
   "source": [
    "results.result.value_counts()"
   ]
  },
  {
   "cell_type": "code",
   "execution_count": 77,
   "metadata": {},
   "outputs": [
    {
     "data": {
      "text/plain": [
       "<matplotlib.axes._subplots.AxesSubplot at 0x1bc0208e048>"
      ]
     },
     "execution_count": 77,
     "metadata": {},
     "output_type": "execute_result"
    },
    {
     "data": {
      "image/png": "[encoded data removed]",
      "text/plain": [
       "<Figure size 432x288 with 1 Axes>"
      ]
     },
     "metadata": {
      "needs_background": "light"
     },
     "output_type": "display_data"
    }
   ],
   "source": [
    "results.result.value_counts().plot(kind='bar')"
   ]
  },
  {
   "cell_type": "code",
   "execution_count": null,
   "metadata": {},
   "outputs": [],
   "source": []
  },
  {
   "cell_type": "code",
   "execution_count": null,
   "metadata": {},
   "outputs": [],
   "source": [
    " "
   ]
  }
 ],
 "metadata": {
  "kernelspec": {
   "display_name": "Python 3",
   "language": "python",
   "name": "python3"
  },
  "language_info": {
   "codemirror_mode": {
    "name": "ipython",
    "version": 3
   },
   "file_extension": ".py",
   "mimetype": "text/x-python",
   "name": "python",
   "nbconvert_exporter": "python",
   "pygments_lexer": "ipython3",
   "version": "3.7.3"
  }
 },
 "nbformat": 4,
 "nbformat_minor": 2
}
