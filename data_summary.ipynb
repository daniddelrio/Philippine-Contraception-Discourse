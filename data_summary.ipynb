{
 "cells": [
  {
   "cell_type": "code",
   "execution_count": 13,
   "metadata": {},
   "outputs": [],
   "source": [
    "import pandas as pd\n",
    "import seaborn as sns"
   ]
  },
  {
   "cell_type": "code",
   "execution_count": 17,
   "metadata": {},
   "outputs": [
    {
     "data": {
      "text/html": [
       "<div>\n",
       "<style scoped>\n",
       "    .dataframe tbody tr th:only-of-type {\n",
       "        vertical-align: middle;\n",
       "    }\n",
       "\n",
       "    .dataframe tbody tr th {\n",
       "        vertical-align: top;\n",
       "    }\n",
       "\n",
       "    .dataframe thead th {\n",
       "        text-align: right;\n",
       "    }\n",
       "</style>\n",
       "<table border=\"1\" class=\"dataframe\">\n",
       "  <thead>\n",
       "    <tr style=\"text-align: right;\">\n",
       "      <th></th>\n",
       "      <th>id</th>\n",
       "      <th>depth</th>\n",
       "      <th>parent_id</th>\n",
       "      <th>score</th>\n",
       "      <th>lemmatized</th>\n",
       "      <th>lemm_sub</th>\n",
       "      <th>sentiment</th>\n",
       "      <th>subjectivity</th>\n",
       "      <th>sentiment_sub</th>\n",
       "      <th>subjectivity_sub</th>\n",
       "      <th>labels</th>\n",
       "    </tr>\n",
       "    <tr>\n",
       "      <th>index</th>\n",
       "      <th></th>\n",
       "      <th></th>\n",
       "      <th></th>\n",
       "      <th></th>\n",
       "      <th></th>\n",
       "      <th></th>\n",
       "      <th></th>\n",
       "      <th></th>\n",
       "      <th></th>\n",
       "      <th></th>\n",
       "      <th></th>\n",
       "    </tr>\n",
       "  </thead>\n",
       "  <tbody>\n",
       "    <tr>\n",
       "      <th>0</th>\n",
       "      <td>d4xury6</td>\n",
       "      <td>0</td>\n",
       "      <td>t3_4r2tl4</td>\n",
       "      <td>31</td>\n",
       "      <td>no question want thank post topic birth contro...</td>\n",
       "      <td>updated september scroll downhi lengthy post c...</td>\n",
       "      <td>0.333333</td>\n",
       "      <td>0.416667</td>\n",
       "      <td>0.109876</td>\n",
       "      <td>0.533718</td>\n",
       "      <td>supporting</td>\n",
       "    </tr>\n",
       "    <tr>\n",
       "      <th>1</th>\n",
       "      <td>d4yi9y9</td>\n",
       "      <td>0</td>\n",
       "      <td>t3_4r2tl4</td>\n",
       "      <td>7</td>\n",
       "      <td>holy shit thank much someone recently turn sup...</td>\n",
       "      <td>updated september scroll downhi lengthy post c...</td>\n",
       "      <td>0.104167</td>\n",
       "      <td>0.308333</td>\n",
       "      <td>0.109876</td>\n",
       "      <td>0.533718</td>\n",
       "      <td>supporting</td>\n",
       "    </tr>\n",
       "    <tr>\n",
       "      <th>2</th>\n",
       "      <td>d4yhm4h</td>\n",
       "      <td>0</td>\n",
       "      <td>t3_4r2tl4</td>\n",
       "      <td>7</td>\n",
       "      <td>people nice friendly super non judgmental espe...</td>\n",
       "      <td>updated september scroll downhi lengthy post c...</td>\n",
       "      <td>0.189815</td>\n",
       "      <td>0.540741</td>\n",
       "      <td>0.109876</td>\n",
       "      <td>0.533718</td>\n",
       "      <td>commenting</td>\n",
       "    </tr>\n",
       "    <tr>\n",
       "      <th>3</th>\n",
       "      <td>d4y5kmd</td>\n",
       "      <td>0</td>\n",
       "      <td>t3_4r2tl4</td>\n",
       "      <td>3</td>\n",
       "      <td>thanks post tried yaz oral contraceptive prior...</td>\n",
       "      <td>updated september scroll downhi lengthy post c...</td>\n",
       "      <td>0.133333</td>\n",
       "      <td>0.133333</td>\n",
       "      <td>0.109876</td>\n",
       "      <td>0.533718</td>\n",
       "      <td>supporting</td>\n",
       "    </tr>\n",
       "    <tr>\n",
       "      <th>4</th>\n",
       "      <td>d4y8tvk</td>\n",
       "      <td>0</td>\n",
       "      <td>t3_4r2tl4</td>\n",
       "      <td>3</td>\n",
       "      <td>minor need show parent consent</td>\n",
       "      <td>updated september scroll downhi lengthy post c...</td>\n",
       "      <td>-0.050000</td>\n",
       "      <td>0.200000</td>\n",
       "      <td>0.109876</td>\n",
       "      <td>0.533718</td>\n",
       "      <td>questioning</td>\n",
       "    </tr>\n",
       "  </tbody>\n",
       "</table>\n",
       "</div>"
      ],
      "text/plain": [
       "            id  depth  parent_id  score  \\\n",
       "index                                     \n",
       "0      d4xury6      0  t3_4r2tl4     31   \n",
       "1      d4yi9y9      0  t3_4r2tl4      7   \n",
       "2      d4yhm4h      0  t3_4r2tl4      7   \n",
       "3      d4y5kmd      0  t3_4r2tl4      3   \n",
       "4      d4y8tvk      0  t3_4r2tl4      3   \n",
       "\n",
       "                                              lemmatized  \\\n",
       "index                                                      \n",
       "0      no question want thank post topic birth contro...   \n",
       "1      holy shit thank much someone recently turn sup...   \n",
       "2      people nice friendly super non judgmental espe...   \n",
       "3      thanks post tried yaz oral contraceptive prior...   \n",
       "4                         minor need show parent consent   \n",
       "\n",
       "                                                lemm_sub  sentiment  \\\n",
       "index                                                                 \n",
       "0      updated september scroll downhi lengthy post c...   0.333333   \n",
       "1      updated september scroll downhi lengthy post c...   0.104167   \n",
       "2      updated september scroll downhi lengthy post c...   0.189815   \n",
       "3      updated september scroll downhi lengthy post c...   0.133333   \n",
       "4      updated september scroll downhi lengthy post c...  -0.050000   \n",
       "\n",
       "       subjectivity  sentiment_sub  subjectivity_sub       labels  \n",
       "index                                                              \n",
       "0          0.416667       0.109876          0.533718   supporting  \n",
       "1          0.308333       0.109876          0.533718   supporting  \n",
       "2          0.540741       0.109876          0.533718   commenting  \n",
       "3          0.133333       0.109876          0.533718   supporting  \n",
       "4          0.200000       0.109876          0.533718  questioning  "
      ]
     },
     "execution_count": 17,
     "metadata": {},
     "output_type": "execute_result"
    }
   ],
   "source": [
    "df = pd.read_csv('preprocessed_data_2.csv')\n",
    "df.rename({'Unnamed: 0' : 'index'}, axis=1, inplace=True)\n",
    "df = df.set_index('index')\n",
    "df.head()"
   ]
  },
  {
   "cell_type": "code",
   "execution_count": 41,
   "metadata": {},
   "outputs": [
    {
     "data": {
      "text/plain": [
       "commenting     614\n",
       "supporting     299\n",
       "denying        136\n",
       "questioning    105\n",
       "Name: labels, dtype: int64"
      ]
     },
     "execution_count": 41,
     "metadata": {},
     "output_type": "execute_result"
    }
   ],
   "source": [
    "df.labels.value_counts()"
   ]
  },
  {
   "cell_type": "code",
   "execution_count": 55,
   "metadata": {},
   "outputs": [
    {
     "data": {
      "text/html": [
       "<div>\n",
       "<style scoped>\n",
       "    .dataframe tbody tr th:only-of-type {\n",
       "        vertical-align: middle;\n",
       "    }\n",
       "\n",
       "    .dataframe tbody tr th {\n",
       "        vertical-align: top;\n",
       "    }\n",
       "\n",
       "    .dataframe thead th {\n",
       "        text-align: right;\n",
       "    }\n",
       "</style>\n",
       "<table border=\"1\" class=\"dataframe\">\n",
       "  <thead>\n",
       "    <tr style=\"text-align: right;\">\n",
       "      <th></th>\n",
       "      <th>count</th>\n",
       "      <th>percent</th>\n",
       "    </tr>\n",
       "  </thead>\n",
       "  <tbody>\n",
       "    <tr>\n",
       "      <th>commenting</th>\n",
       "      <td>614</td>\n",
       "      <td>53.160173</td>\n",
       "    </tr>\n",
       "    <tr>\n",
       "      <th>supporting</th>\n",
       "      <td>299</td>\n",
       "      <td>25.887446</td>\n",
       "    </tr>\n",
       "    <tr>\n",
       "      <th>denying</th>\n",
       "      <td>136</td>\n",
       "      <td>11.774892</td>\n",
       "    </tr>\n",
       "    <tr>\n",
       "      <th>questioning</th>\n",
       "      <td>105</td>\n",
       "      <td>9.090909</td>\n",
       "    </tr>\n",
       "  </tbody>\n",
       "</table>\n",
       "</div>"
      ],
      "text/plain": [
       "             count    percent\n",
       "commenting     614  53.160173\n",
       "supporting     299  25.887446\n",
       "denying        136  11.774892\n",
       "questioning    105   9.090909"
      ]
     },
     "execution_count": 55,
     "metadata": {},
     "output_type": "execute_result"
    }
   ],
   "source": [
    "total = df.shape[0]\n",
    "summary_df = pd.DataFrame({\n",
    "    'count' : df.labels.value_counts(),\n",
    "})\n",
    "summary_df['percent'] = (summary_df['count'] / total) * 100\n",
    "summary_df"
   ]
  },
  {
   "cell_type": "code",
   "execution_count": 43,
   "metadata": {},
   "outputs": [
    {
     "data": {
      "text/plain": [
       "<seaborn.axisgrid.JointGrid at 0x11446bf60>"
      ]
     },
     "execution_count": 43,
     "metadata": {},
     "output_type": "execute_result"
    },
    {
     "data": {
      "image/png": "[encoded data removed]",
      "text/plain": [
       "<Figure size 432x432 with 3 Axes>"
      ]
     },
     "metadata": {
      "needs_background": "light"
     },
     "output_type": "display_data"
    }
   ],
   "source": [
    "# Visualize distribution of sentiment and score\n",
    "#sns.lmplot(data=df, x='sentiment', y='score', fit_reg=True) \n",
    "sns.jointplot(data=df, x='score', y='sentiment', kind='reg') "
   ]
  },
  {
   "cell_type": "code",
   "execution_count": null,
   "metadata": {},
   "outputs": [],
   "source": []
  }
 ],
 "metadata": {
  "kernelspec": {
   "display_name": "Python 3",
   "language": "python",
   "name": "python3"
  },
  "language_info": {
   "codemirror_mode": {
    "name": "ipython",
    "version": 3
   },
   "file_extension": ".py",
   "mimetype": "text/x-python",
   "name": "python",
   "nbconvert_exporter": "python",
   "pygments_lexer": "ipython3",
   "version": "3.7.0b4"
  }
 },
 "nbformat": 4,
 "nbformat_minor": 2
}
