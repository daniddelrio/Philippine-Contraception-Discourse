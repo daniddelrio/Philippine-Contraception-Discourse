{
 "cells": [
  {
   "cell_type": "code",
   "execution_count": 19,
   "metadata": {},
   "outputs": [],
   "source": [
    "import praw"
   ]
  },
  {
   "cell_type": "code",
   "execution_count": 20,
   "metadata": {},
   "outputs": [],
   "source": [
    "reddit = praw.Reddit(client_id='4hzFNLs3DXmWcA',\n",
    "                     client_secret='0JO0s7Nn8bolJYme3wjJmB_Zwm8',\n",
    "                     user_agent='script:4hzFNLs3DXmWcA:1.0.0 (by /u/SomeGuyNamedGuy)')"
   ]
  },
  {
   "cell_type": "code",
   "execution_count": 21,
   "metadata": {},
   "outputs": [
    {
     "name": "stdout",
     "output_type": "stream",
     "text": [
      "True\n"
     ]
    }
   ],
   "source": [
    "print(reddit.read_only)"
   ]
  },
  {
   "cell_type": "code",
   "execution_count": 22,
   "metadata": {},
   "outputs": [
    {
     "data": {
      "text/plain": [
       "Subreddit(display_name='Philippines+SafeSexPH')"
      ]
     },
     "execution_count": 22,
     "metadata": {},
     "output_type": "execute_result"
    }
   ],
   "source": [
    "subreddit_ph = reddit.subreddit('Philippines+SafeSexPH')\n",
    "subreddit_ph"
   ]
  },
  {
   "cell_type": "code",
   "execution_count": 66,
   "metadata": {},
   "outputs": [
    {
     "data": {
      "text/plain": [
       "<praw.models.listing.generator.ListingGenerator at 0x113a57eb8>"
      ]
     },
     "execution_count": 66,
     "metadata": {},
     "output_type": "execute_result"
    }
   ],
   "source": [
    "post_list = subreddit_ph.search(query=\"title:condom OR selftext:condom\", limit=10)\n",
    "post_list"
   ]
  },
  {
   "cell_type": "code",
   "execution_count": 67,
   "metadata": {},
   "outputs": [
    {
     "name": "stdout",
     "output_type": "stream",
     "text": [
      "They are LITERALLY next to the kahera.\n"
     ]
    }
   ],
   "source": [
    "index = 0\n",
    "for submission in post_list:\n",
    "    if index == 0:\n",
    "        print(submission.comments[0].body)\n",
    "        index += 1"
   ]
  },
  {
   "cell_type": "code",
   "execution_count": 24,
   "metadata": {},
   "outputs": [
    {
     "data": {
      "text/plain": [
       "Submission(id='c98x49')"
      ]
     },
     "execution_count": 24,
     "metadata": {},
     "output_type": "execute_result"
    }
   ],
   "source": [
    "submission = reddit.submission(url='https://www.reddit.com/r/Philippines/comments/c98x49/grabe_pare_kaunti_na_lang_talaga_mga_maginoo_na/')\n",
    "submission.comments.replace_more(limit=None)\n",
    "submission"
   ]
  },
  {
   "cell_type": "markdown",
   "metadata": {},
   "source": [
    "### Class-Based Tree Initialization"
   ]
  },
  {
   "cell_type": "code",
   "execution_count": 7,
   "metadata": {},
   "outputs": [],
   "source": [
    "class CommentClass:\n",
    "    parent = None\n",
    "    children = list()\n",
    "    obj = None\n",
    "    depth = 1\n",
    "    \n",
    "    def __init__(self, obj, parent):\n",
    "        self.obj = obj\n",
    "        if parent:\n",
    "            self.parent = parent\n",
    "            self.parent.add_child(self)\n",
    "            self.depth = self.parent.depth + 1\n",
    "    \n",
    "    def add_child(self, child):\n",
    "        self.children.append(child)"
   ]
  },
  {
   "cell_type": "code",
   "execution_count": 30,
   "metadata": {},
   "outputs": [],
   "source": [
    "# Recursively goes through the comment thread starting with the parent node\n",
    "def make_tree(curr_comment, parent):\n",
    "    curr_class = CommentClass(curr_comment, parent)\n",
    "    for child in curr_comment.replies:\n",
    "        print(child.body)\n",
    "        make_tree(child, curr_class)\n",
    "    \n",
    "    return curr_class"
   ]
  },
  {
   "cell_type": "code",
   "execution_count": 31,
   "metadata": {},
   "outputs": [
    {
     "name": "stdout",
     "output_type": "stream",
     "text": [
      "lol this is my favorite line from those insecure males. Like, \"ang tunay na lalake manual ang dina-drive\", \"ang tunay na lalake walang abs\", etc. \n",
      "\n",
      "They're so insecure of their sexuality that they correlate it to something that can be done by anyone and think they're so manly.\n",
      "Ang tunay na lalake laging may extra rice!\n",
      "John Lloyd. Tunay na lalake.\n",
      "Ang tunay na lalake laging may dalang payong\n",
      "Ang tunay na lalaki ay bakla...\n",
      "\n",
      "Wait no I think that's from a gloc 9 song, nvm\n",
      "linyahang white knights\n",
      "r/gatekeeping din hahahah\n"
     ]
    }
   ],
   "source": [
    "top_comment_classes = list()\n",
    "for comment in submission.comments[:1]:\n",
    "    comment_class = make_tree(comment, None)\n",
    "    top_comment_classes.append(comment_class)"
   ]
  },
  {
   "cell_type": "code",
   "execution_count": 37,
   "metadata": {},
   "outputs": [
    {
     "data": {
      "text/plain": [
       "'John Lloyd. Tunay na lalake.'"
      ]
     },
     "execution_count": 37,
     "metadata": {},
     "output_type": "execute_result"
    }
   ],
   "source": [
    "top_comment_classes[0].children[2].obj.body"
   ]
  },
  {
   "cell_type": "markdown",
   "metadata": {},
   "source": [
    "#### Disregard above, as PRAW already has built-in tree structure in comments"
   ]
  },
  {
   "cell_type": "code",
   "execution_count": 38,
   "metadata": {},
   "outputs": [],
   "source": [
    "comment1 = submission.comments[0]"
   ]
  },
  {
   "cell_type": "code",
   "execution_count": 47,
   "metadata": {},
   "outputs": [
    {
     "data": {
      "text/plain": [
       "3"
      ]
     },
     "execution_count": 47,
     "metadata": {},
     "output_type": "execute_result"
    }
   ],
   "source": [
    "comment1.replies[0].replies[0].replies[0].depth"
   ]
  },
  {
   "cell_type": "markdown",
   "metadata": {},
   "source": [
    "## Doc2Vec"
   ]
  },
  {
   "cell_type": "code",
   "execution_count": 91,
   "metadata": {},
   "outputs": [],
   "source": [
    "import pandas as pd\n",
    "from gensim.models.doc2vec import Doc2Vec"
   ]
  },
  {
   "cell_type": "code",
   "execution_count": 92,
   "metadata": {},
   "outputs": [
    {
     "data": {
      "text/html": [
       "<div>\n",
       "<style scoped>\n",
       "    .dataframe tbody tr th:only-of-type {\n",
       "        vertical-align: middle;\n",
       "    }\n",
       "\n",
       "    .dataframe tbody tr th {\n",
       "        vertical-align: top;\n",
       "    }\n",
       "\n",
       "    .dataframe thead th {\n",
       "        text-align: right;\n",
       "    }\n",
       "</style>\n",
       "<table border=\"1\" class=\"dataframe\">\n",
       "  <thead>\n",
       "    <tr style=\"text-align: right;\">\n",
       "      <th></th>\n",
       "      <th>Unnamed: 0</th>\n",
       "      <th>labels</th>\n",
       "      <th>body</th>\n",
       "      <th>parent</th>\n",
       "      <th>submission</th>\n",
       "    </tr>\n",
       "  </thead>\n",
       "  <tbody>\n",
       "    <tr>\n",
       "      <th>0</th>\n",
       "      <td>0</td>\n",
       "      <td>supporting</td>\n",
       "      <td>no question want thank post topic birth contro...</td>\n",
       "      <td>updated september scroll downhi lengthy post c...</td>\n",
       "      <td>updated september scroll downhi lengthy post c...</td>\n",
       "    </tr>\n",
       "    <tr>\n",
       "      <th>1</th>\n",
       "      <td>1</td>\n",
       "      <td>supporting</td>\n",
       "      <td>holy shit thank much someone recently turn sup...</td>\n",
       "      <td>updated september scroll downhi lengthy post c...</td>\n",
       "      <td>updated september scroll downhi lengthy post c...</td>\n",
       "    </tr>\n",
       "    <tr>\n",
       "      <th>2</th>\n",
       "      <td>2</td>\n",
       "      <td>commenting</td>\n",
       "      <td>people nice friendly super non judgmental espe...</td>\n",
       "      <td>updated september scroll downhi lengthy post c...</td>\n",
       "      <td>updated september scroll downhi lengthy post c...</td>\n",
       "    </tr>\n",
       "    <tr>\n",
       "      <th>3</th>\n",
       "      <td>3</td>\n",
       "      <td>supporting</td>\n",
       "      <td>thanks post tried yaz oral contraceptive prior...</td>\n",
       "      <td>updated september scroll downhi lengthy post c...</td>\n",
       "      <td>updated september scroll downhi lengthy post c...</td>\n",
       "    </tr>\n",
       "    <tr>\n",
       "      <th>4</th>\n",
       "      <td>4</td>\n",
       "      <td>questioning</td>\n",
       "      <td>minor need show parent consent</td>\n",
       "      <td>updated september scroll downhi lengthy post c...</td>\n",
       "      <td>updated september scroll downhi lengthy post c...</td>\n",
       "    </tr>\n",
       "  </tbody>\n",
       "</table>\n",
       "</div>"
      ],
      "text/plain": [
       "   Unnamed: 0       labels                                               body  \\\n",
       "0           0   supporting  no question want thank post topic birth contro...   \n",
       "1           1   supporting  holy shit thank much someone recently turn sup...   \n",
       "2           2   commenting  people nice friendly super non judgmental espe...   \n",
       "3           3   supporting  thanks post tried yaz oral contraceptive prior...   \n",
       "4           4  questioning                     minor need show parent consent   \n",
       "\n",
       "                                              parent  \\\n",
       "0  updated september scroll downhi lengthy post c...   \n",
       "1  updated september scroll downhi lengthy post c...   \n",
       "2  updated september scroll downhi lengthy post c...   \n",
       "3  updated september scroll downhi lengthy post c...   \n",
       "4  updated september scroll downhi lengthy post c...   \n",
       "\n",
       "                                          submission  \n",
       "0  updated september scroll downhi lengthy post c...  \n",
       "1  updated september scroll downhi lengthy post c...  \n",
       "2  updated september scroll downhi lengthy post c...  \n",
       "3  updated september scroll downhi lengthy post c...  \n",
       "4  updated september scroll downhi lengthy post c...  "
      ]
     },
     "execution_count": 92,
     "metadata": {},
     "output_type": "execute_result"
    }
   ],
   "source": [
    "df = pd.read_csv('labelled_dataset.csv')\n",
    "df.head()"
   ]
  },
  {
   "cell_type": "code",
   "execution_count": 93,
   "metadata": {},
   "outputs": [],
   "source": [
    "from gensim.test.utils import common_texts\n",
    "from gensim.models.doc2vec import Doc2Vec, TaggedDocument\n",
    "\n",
    "# documents = [TaggedDocument(doc, [i]) for i, doc in enumerate(common_texts)]\n",
    "comments = [TaggedDocument(row[1][2], [row[1][0]]) for row in df.iterrows()]\n",
    "source = [TaggedDocument(row[1][3], [row[1][0]]) for row in df.iterrows()]\n",
    "model_comments = Doc2Vec(comments, vector_size=5, window=2, min_count=1, workers=4)\n",
    "model_source = Doc2Vec(source, vector_size=5, window=2, min_count=1, workers=4)"
   ]
  },
  {
   "cell_type": "code",
   "execution_count": 94,
   "metadata": {},
   "outputs": [],
   "source": [
    "#model.train(documents, total_examples=model.corpus_count, epochs=model.epochs)"
   ]
  },
  {
   "cell_type": "code",
   "execution_count": 98,
   "metadata": {},
   "outputs": [],
   "source": [
    "import numpy as np\n",
    "\n",
    "labels = df['labels']\n",
    "final_vec_list = [np.append(model_comments.docvecs[i], model_source.docvecs[i]) for i in range(len(model_comments.docvecs))]"
   ]
  },
  {
   "cell_type": "code",
   "execution_count": 90,
   "metadata": {},
   "outputs": [],
   "source": [
    "from sklearn.model_selection import train_test_split\n",
    "\n",
    "text_train, text_test, label_train, label_test = train_test_split(final_vec_list, labels, test_size=0.2)"
   ]
  },
  {
   "cell_type": "code",
   "execution_count": 26,
   "metadata": {},
   "outputs": [],
   "source": [
    "from gensim.test.utils import get_tmpfile\n",
    "\n",
    "fname = get_tmpfile(\"my_doc2vec_model\")\n",
    "\n",
    "model.save(fname)\n",
    "model = Doc2Vec.load(fname)  # you can continue training with the loaded model!"
   ]
  },
  {
   "cell_type": "code",
   "execution_count": 27,
   "metadata": {},
   "outputs": [],
   "source": [
    "model.delete_temporary_training_data(keep_doctags_vectors=True, keep_inference=True)"
   ]
  },
  {
   "cell_type": "code",
   "execution_count": null,
   "metadata": {},
   "outputs": [],
   "source": []
  }
 ],
 "metadata": {
  "kernelspec": {
   "display_name": "Python 3",
   "language": "python",
   "name": "python3"
  },
  "language_info": {
   "codemirror_mode": {
    "name": "ipython",
    "version": 3
   },
   "file_extension": ".py",
   "mimetype": "text/x-python",
   "name": "python",
   "nbconvert_exporter": "python",
   "pygments_lexer": "ipython3",
   "version": "3.7.0b4"
  }
 },
 "nbformat": 4,
 "nbformat_minor": 2
}
