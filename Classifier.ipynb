{
 "cells": [
  {
   "cell_type": "code",
   "execution_count": 221,
   "metadata": {},
   "outputs": [],
   "source": [
    "import numpy as np # linear algebra\n",
    "import pandas as pd # data processing, CSV file I/O (e.g. pd.read_csv)\n",
    "\n",
    "from keras.models import Sequential\n",
    "from keras.layers import Dense, Embedding, LSTM, SpatialDropout1D\n",
    "from keras.preprocessing.sequence import pad_sequences\n",
    "from sklearn.model_selection import train_test_split\n",
    "from keras.utils.np_utils import to_categorical\n",
    "from keras.callbacks import EarlyStopping\n",
    "\n",
    "import gensim\n",
    "from gensim.models.doc2vec import Doc2Vec, TaggedDocument"
   ]
  },
  {
   "cell_type": "code",
   "execution_count": 222,
   "metadata": {},
   "outputs": [
    {
     "data": {
      "text/html": [
       "<div>\n",
       "<style scoped>\n",
       "    .dataframe tbody tr th:only-of-type {\n",
       "        vertical-align: middle;\n",
       "    }\n",
       "\n",
       "    .dataframe tbody tr th {\n",
       "        vertical-align: top;\n",
       "    }\n",
       "\n",
       "    .dataframe thead th {\n",
       "        text-align: right;\n",
       "    }\n",
       "</style>\n",
       "<table border=\"1\" class=\"dataframe\">\n",
       "  <thead>\n",
       "    <tr style=\"text-align: right;\">\n",
       "      <th></th>\n",
       "      <th>labels</th>\n",
       "      <th>body</th>\n",
       "      <th>parent</th>\n",
       "    </tr>\n",
       "  </thead>\n",
       "  <tbody>\n",
       "    <tr>\n",
       "      <th>0</th>\n",
       "      <td>supporting</td>\n",
       "      <td>no question want thank post topic birth contro...</td>\n",
       "      <td>updated september scroll downhi lengthy post c...</td>\n",
       "    </tr>\n",
       "    <tr>\n",
       "      <th>1</th>\n",
       "      <td>supporting</td>\n",
       "      <td>holy shit thank much someone recently turn sup...</td>\n",
       "      <td>updated september scroll downhi lengthy post c...</td>\n",
       "    </tr>\n",
       "  </tbody>\n",
       "</table>\n",
       "</div>"
      ],
      "text/plain": [
       "       labels                                               body  \\\n",
       "0  supporting  no question want thank post topic birth contro...   \n",
       "1  supporting  holy shit thank much someone recently turn sup...   \n",
       "\n",
       "                                              parent  \n",
       "0  updated september scroll downhi lengthy post c...  \n",
       "1  updated september scroll downhi lengthy post c...  "
      ]
     },
     "execution_count": 222,
     "metadata": {},
     "output_type": "execute_result"
    }
   ],
   "source": [
    "data = pd.read_csv('labelled_dataset.csv',index_col=0)\n",
    "data = data[['labels','body','parent']]\n",
    "data.head(2)"
   ]
  },
  {
   "cell_type": "markdown",
   "metadata": {},
   "source": [
    "## Checking Label Distribution and Assigning Weights"
   ]
  },
  {
   "cell_type": "code",
   "execution_count": 223,
   "metadata": {},
   "outputs": [
    {
     "data": {
      "text/plain": [
       "commenting     614\n",
       "supporting     299\n",
       "denying        137\n",
       "questioning    105\n",
       "Name: labels, dtype: int64"
      ]
     },
     "execution_count": 223,
     "metadata": {},
     "output_type": "execute_result"
    }
   ],
   "source": [
    "data.labels.value_counts()"
   ]
  },
  {
   "cell_type": "code",
   "execution_count": 224,
   "metadata": {},
   "outputs": [
    {
     "data": {
      "text/plain": [
       "<matplotlib.axes._subplots.AxesSubplot at 0x1d207486668>"
      ]
     },
     "execution_count": 224,
     "metadata": {},
     "output_type": "execute_result"
    },
    {
     "data": {
      "image/png": "[encoded data removed]",
      "text/plain": [
       "<Figure size 432x288 with 1 Axes>"
      ]
     },
     "metadata": {
      "needs_background": "light"
     },
     "output_type": "display_data"
    }
   ],
   "source": [
    "data.labels.value_counts().plot(kind='bar')"
   ]
  },
  {
   "cell_type": "code",
   "execution_count": 429,
   "metadata": {},
   "outputs": [
    {
     "data": {
      "text/html": [
       "<div>\n",
       "<style scoped>\n",
       "    .dataframe tbody tr th:only-of-type {\n",
       "        vertical-align: middle;\n",
       "    }\n",
       "\n",
       "    .dataframe tbody tr th {\n",
       "        vertical-align: top;\n",
       "    }\n",
       "\n",
       "    .dataframe thead th {\n",
       "        text-align: right;\n",
       "    }\n",
       "</style>\n",
       "<table border=\"1\" class=\"dataframe\">\n",
       "  <thead>\n",
       "    <tr style=\"text-align: right;\">\n",
       "      <th></th>\n",
       "      <th>labels</th>\n",
       "      <th>body</th>\n",
       "      <th>parent</th>\n",
       "    </tr>\n",
       "  </thead>\n",
       "  <tbody>\n",
       "    <tr>\n",
       "      <th>0</th>\n",
       "      <td>0</td>\n",
       "      <td>no question want thank post topic birth contro...</td>\n",
       "      <td>updated september scroll downhi lengthy post c...</td>\n",
       "    </tr>\n",
       "    <tr>\n",
       "      <th>1</th>\n",
       "      <td>0</td>\n",
       "      <td>holy shit thank much someone recently turn sup...</td>\n",
       "      <td>updated september scroll downhi lengthy post c...</td>\n",
       "    </tr>\n",
       "  </tbody>\n",
       "</table>\n",
       "</div>"
      ],
      "text/plain": [
       "  labels                                               body  \\\n",
       "0      0  no question want thank post topic birth contro...   \n",
       "1      0  holy shit thank much someone recently turn sup...   \n",
       "\n",
       "                                              parent  \n",
       "0  updated september scroll downhi lengthy post c...  \n",
       "1  updated september scroll downhi lengthy post c...  "
      ]
     },
     "execution_count": 429,
     "metadata": {},
     "output_type": "execute_result"
    }
   ],
   "source": [
    "# turning into integers\n",
    "data.loc[data['labels'] == 'supporting', 'labels'] = 0\n",
    "data.loc[data['labels'] == 'denying', 'labels'] = 1\n",
    "data.loc[data['labels'] == 'questioning', 'labels'] = 2\n",
    "data.loc[data['labels'] == 'commenting', 'labels'] = 3\n",
    "data.head(2)"
   ]
  },
  {
   "cell_type": "code",
   "execution_count": 430,
   "metadata": {},
   "outputs": [
    {
     "data": {
      "text/plain": [
       "array([[1., 0., 0., 0.],\n",
       "       [1., 0., 0., 0.],\n",
       "       [0., 0., 0., 1.],\n",
       "       ...,\n",
       "       [0., 0., 0., 1.],\n",
       "       [0., 0., 0., 1.],\n",
       "       [0., 0., 0., 1.]], dtype=float32)"
      ]
     },
     "execution_count": 430,
     "metadata": {},
     "output_type": "execute_result"
    }
   ],
   "source": [
    "# one-hot encoding\n",
    "labels = to_categorical(data['labels'], num_classes=4)\n",
    "labels"
   ]
  },
  {
   "cell_type": "markdown",
   "metadata": {},
   "source": [
    "## Vectorizing with Doc2Vec"
   ]
  },
  {
   "cell_type": "code",
   "execution_count": 431,
   "metadata": {},
   "outputs": [
    {
     "name": "stderr",
     "output_type": "stream",
     "text": [
      "W0719 15:07:24.464391  7488 base_any2vec.py:723] consider setting layer size to a multiple of 4 for greater performance\n"
     ]
    }
   ],
   "source": [
    "import textblob\n",
    "from textblob import TextBlob\n",
    "\n",
    "document_1 = [TaggedDocument(doc.split(), [i]) for i, doc in enumerate(data['body'])]\n",
    "#document_1 = [TextBlob(j) for i,j in enumerate(data['body'])]\n",
    "model_1 = gensim.models.doc2vec.Doc2Vec(vector_size=50, min_count=2, epochs=40)"
   ]
  },
  {
   "cell_type": "code",
   "execution_count": 432,
   "metadata": {},
   "outputs": [
    {
     "name": "stderr",
     "output_type": "stream",
     "text": [
      "W0719 15:07:24.620681  7488 base_any2vec.py:723] consider setting layer size to a multiple of 4 for greater performance\n"
     ]
    }
   ],
   "source": [
    "document_2 = [TaggedDocument(doc.split(), [i]) for i, doc in enumerate(data['parent'])]\n",
    "model_2 = gensim.models.doc2vec.Doc2Vec(vector_size=50, min_count=2, epochs=40)"
   ]
  },
  {
   "cell_type": "code",
   "execution_count": 433,
   "metadata": {},
   "outputs": [],
   "source": [
    "model_1.build_vocab(document_1)\n",
    "model_2.build_vocab(document_2)"
   ]
  },
  {
   "cell_type": "code",
   "execution_count": 434,
   "metadata": {},
   "outputs": [],
   "source": [
    "vector_1 = []\n",
    "for i in range(data['body'].shape[0]):\n",
    "    vector_1.append(list(model_1.infer_vector(data['body'])))"
   ]
  },
  {
   "cell_type": "code",
   "execution_count": 435,
   "metadata": {},
   "outputs": [],
   "source": [
    "vector_2 = []\n",
    "for i in range(data['parent'].shape[0]):\n",
    "    vector_2.append(list(model_1.infer_vector(data['parent'])))"
   ]
  },
  {
   "cell_type": "markdown",
   "metadata": {},
   "source": [
    "## Modeling with LSTM"
   ]
  },
  {
   "cell_type": "code",
   "execution_count": 436,
   "metadata": {},
   "outputs": [
    {
     "data": {
      "text/html": [
       "<div>\n",
       "<style scoped>\n",
       "    .dataframe tbody tr th:only-of-type {\n",
       "        vertical-align: middle;\n",
       "    }\n",
       "\n",
       "    .dataframe tbody tr th {\n",
       "        vertical-align: top;\n",
       "    }\n",
       "\n",
       "    .dataframe thead th {\n",
       "        text-align: right;\n",
       "    }\n",
       "</style>\n",
       "<table border=\"1\" class=\"dataframe\">\n",
       "  <thead>\n",
       "    <tr style=\"text-align: right;\">\n",
       "      <th></th>\n",
       "      <th>0_x</th>\n",
       "      <th>1_x</th>\n",
       "      <th>2_x</th>\n",
       "      <th>3_x</th>\n",
       "      <th>4_x</th>\n",
       "      <th>5_x</th>\n",
       "      <th>6_x</th>\n",
       "      <th>7_x</th>\n",
       "      <th>8_x</th>\n",
       "      <th>9_x</th>\n",
       "      <th>...</th>\n",
       "      <th>40_y</th>\n",
       "      <th>41_y</th>\n",
       "      <th>42_y</th>\n",
       "      <th>43_y</th>\n",
       "      <th>44_y</th>\n",
       "      <th>45_y</th>\n",
       "      <th>46_y</th>\n",
       "      <th>47_y</th>\n",
       "      <th>48_y</th>\n",
       "      <th>49_y</th>\n",
       "    </tr>\n",
       "  </thead>\n",
       "  <tbody>\n",
       "    <tr>\n",
       "      <th>0</th>\n",
       "      <td>0.009025</td>\n",
       "      <td>0.004489</td>\n",
       "      <td>0.00641</td>\n",
       "      <td>0.00854</td>\n",
       "      <td>-0.002019</td>\n",
       "      <td>-0.002739</td>\n",
       "      <td>-0.001982</td>\n",
       "      <td>-0.006572</td>\n",
       "      <td>0.008654</td>\n",
       "      <td>-0.006367</td>\n",
       "      <td>...</td>\n",
       "      <td>-0.000652</td>\n",
       "      <td>-0.001344</td>\n",
       "      <td>-0.008415</td>\n",
       "      <td>0.001648</td>\n",
       "      <td>-0.003093</td>\n",
       "      <td>0.007531</td>\n",
       "      <td>-0.006704</td>\n",
       "      <td>-0.002541</td>\n",
       "      <td>0.000711</td>\n",
       "      <td>-0.004499</td>\n",
       "    </tr>\n",
       "    <tr>\n",
       "      <th>1</th>\n",
       "      <td>0.009025</td>\n",
       "      <td>0.004489</td>\n",
       "      <td>0.00641</td>\n",
       "      <td>0.00854</td>\n",
       "      <td>-0.002019</td>\n",
       "      <td>-0.002739</td>\n",
       "      <td>-0.001982</td>\n",
       "      <td>-0.006572</td>\n",
       "      <td>0.008654</td>\n",
       "      <td>-0.006367</td>\n",
       "      <td>...</td>\n",
       "      <td>-0.000652</td>\n",
       "      <td>-0.001344</td>\n",
       "      <td>-0.008415</td>\n",
       "      <td>0.001648</td>\n",
       "      <td>-0.003093</td>\n",
       "      <td>0.007531</td>\n",
       "      <td>-0.006704</td>\n",
       "      <td>-0.002541</td>\n",
       "      <td>0.000711</td>\n",
       "      <td>-0.004499</td>\n",
       "    </tr>\n",
       "  </tbody>\n",
       "</table>\n",
       "<p>2 rows × 100 columns</p>\n",
       "</div>"
      ],
      "text/plain": [
       "        0_x       1_x      2_x      3_x       4_x       5_x       6_x  \\\n",
       "0  0.009025  0.004489  0.00641  0.00854 -0.002019 -0.002739 -0.001982   \n",
       "1  0.009025  0.004489  0.00641  0.00854 -0.002019 -0.002739 -0.001982   \n",
       "\n",
       "        7_x       8_x       9_x  ...      40_y      41_y      42_y      43_y  \\\n",
       "0 -0.006572  0.008654 -0.006367  ... -0.000652 -0.001344 -0.008415  0.001648   \n",
       "1 -0.006572  0.008654 -0.006367  ... -0.000652 -0.001344 -0.008415  0.001648   \n",
       "\n",
       "       44_y      45_y      46_y      47_y      48_y      49_y  \n",
       "0 -0.003093  0.007531 -0.006704 -0.002541  0.000711 -0.004499  \n",
       "1 -0.003093  0.007531 -0.006704 -0.002541  0.000711 -0.004499  \n",
       "\n",
       "[2 rows x 100 columns]"
      ]
     },
     "execution_count": 436,
     "metadata": {},
     "output_type": "execute_result"
    }
   ],
   "source": [
    "df_1 = pd.DataFrame(vector_1)\n",
    "df_2 = pd.DataFrame(vector_2)\n",
    "df = df_1.reset_index(drop=True).merge(df_2.reset_index(drop=True), left_index=True, right_index=True)\n",
    "df.head(2)"
   ]
  },
  {
   "cell_type": "code",
   "execution_count": 437,
   "metadata": {},
   "outputs": [
    {
     "data": {
      "text/html": [
       "<div>\n",
       "<style scoped>\n",
       "    .dataframe tbody tr th:only-of-type {\n",
       "        vertical-align: middle;\n",
       "    }\n",
       "\n",
       "    .dataframe tbody tr th {\n",
       "        vertical-align: top;\n",
       "    }\n",
       "\n",
       "    .dataframe thead th {\n",
       "        text-align: right;\n",
       "    }\n",
       "</style>\n",
       "<table border=\"1\" class=\"dataframe\">\n",
       "  <thead>\n",
       "    <tr style=\"text-align: right;\">\n",
       "      <th></th>\n",
       "      <th>0_x</th>\n",
       "      <th>1_x</th>\n",
       "      <th>2_x</th>\n",
       "      <th>3_x</th>\n",
       "      <th>4_x</th>\n",
       "      <th>5_x</th>\n",
       "      <th>6_x</th>\n",
       "      <th>7_x</th>\n",
       "      <th>8_x</th>\n",
       "      <th>9_x</th>\n",
       "      <th>...</th>\n",
       "      <th>40_y</th>\n",
       "      <th>41_y</th>\n",
       "      <th>42_y</th>\n",
       "      <th>43_y</th>\n",
       "      <th>44_y</th>\n",
       "      <th>45_y</th>\n",
       "      <th>46_y</th>\n",
       "      <th>47_y</th>\n",
       "      <th>48_y</th>\n",
       "      <th>49_y</th>\n",
       "    </tr>\n",
       "  </thead>\n",
       "  <tbody>\n",
       "    <tr>\n",
       "      <th>0</th>\n",
       "      <td>0.009025</td>\n",
       "      <td>0.004489</td>\n",
       "      <td>0.00641</td>\n",
       "      <td>0.00854</td>\n",
       "      <td>-0.002019</td>\n",
       "      <td>-0.002739</td>\n",
       "      <td>-0.001982</td>\n",
       "      <td>-0.006572</td>\n",
       "      <td>0.008654</td>\n",
       "      <td>-0.006367</td>\n",
       "      <td>...</td>\n",
       "      <td>-0.000652</td>\n",
       "      <td>-0.001344</td>\n",
       "      <td>-0.008415</td>\n",
       "      <td>0.001648</td>\n",
       "      <td>-0.003093</td>\n",
       "      <td>0.007531</td>\n",
       "      <td>-0.006704</td>\n",
       "      <td>-0.002541</td>\n",
       "      <td>0.000711</td>\n",
       "      <td>-0.004499</td>\n",
       "    </tr>\n",
       "    <tr>\n",
       "      <th>1</th>\n",
       "      <td>0.009025</td>\n",
       "      <td>0.004489</td>\n",
       "      <td>0.00641</td>\n",
       "      <td>0.00854</td>\n",
       "      <td>-0.002019</td>\n",
       "      <td>-0.002739</td>\n",
       "      <td>-0.001982</td>\n",
       "      <td>-0.006572</td>\n",
       "      <td>0.008654</td>\n",
       "      <td>-0.006367</td>\n",
       "      <td>...</td>\n",
       "      <td>-0.000652</td>\n",
       "      <td>-0.001344</td>\n",
       "      <td>-0.008415</td>\n",
       "      <td>0.001648</td>\n",
       "      <td>-0.003093</td>\n",
       "      <td>0.007531</td>\n",
       "      <td>-0.006704</td>\n",
       "      <td>-0.002541</td>\n",
       "      <td>0.000711</td>\n",
       "      <td>-0.004499</td>\n",
       "    </tr>\n",
       "  </tbody>\n",
       "</table>\n",
       "<p>2 rows × 100 columns</p>\n",
       "</div>"
      ],
      "text/plain": [
       "        0_x       1_x      2_x      3_x       4_x       5_x       6_x  \\\n",
       "0  0.009025  0.004489  0.00641  0.00854 -0.002019 -0.002739 -0.001982   \n",
       "1  0.009025  0.004489  0.00641  0.00854 -0.002019 -0.002739 -0.001982   \n",
       "\n",
       "        7_x       8_x       9_x  ...      40_y      41_y      42_y      43_y  \\\n",
       "0 -0.006572  0.008654 -0.006367  ... -0.000652 -0.001344 -0.008415  0.001648   \n",
       "1 -0.006572  0.008654 -0.006367  ... -0.000652 -0.001344 -0.008415  0.001648   \n",
       "\n",
       "       44_y      45_y      46_y      47_y      48_y      49_y  \n",
       "0 -0.003093  0.007531 -0.006704 -0.002541  0.000711 -0.004499  \n",
       "1 -0.003093  0.007531 -0.006704 -0.002541  0.000711 -0.004499  \n",
       "\n",
       "[2 rows x 100 columns]"
      ]
     },
     "execution_count": 437,
     "metadata": {},
     "output_type": "execute_result"
    }
   ],
   "source": [
    "df.head(2)"
   ]
  },
  {
   "cell_type": "code",
   "execution_count": 438,
   "metadata": {},
   "outputs": [],
   "source": [
    "#df['labels'] = data['labels']"
   ]
  },
  {
   "cell_type": "code",
   "execution_count": 439,
   "metadata": {},
   "outputs": [],
   "source": [
    "lol = df.values.tolist()\n",
    "loa = []\n",
    "for i in lol:\n",
    "    loa.append(np.asarray(i))\n",
    "loa = np.array(loa)"
   ]
  },
  {
   "cell_type": "code",
   "execution_count": 440,
   "metadata": {},
   "outputs": [],
   "source": [
    "X_train, X_test, y_train, y_test = train_test_split(loa, labels, test_size=0.20, random_state=42)"
   ]
  },
  {
   "cell_type": "code",
   "execution_count": 441,
   "metadata": {},
   "outputs": [
    {
     "data": {
      "text/plain": [
       "(924, 100)"
      ]
     },
     "execution_count": 441,
     "metadata": {},
     "output_type": "execute_result"
    }
   ],
   "source": [
    "X_train.shape"
   ]
  },
  {
   "cell_type": "code",
   "execution_count": 442,
   "metadata": {},
   "outputs": [
    {
     "data": {
      "text/plain": [
       "(231, 100)"
      ]
     },
     "execution_count": 442,
     "metadata": {},
     "output_type": "execute_result"
    }
   ],
   "source": [
    "X_test.shape"
   ]
  },
  {
   "cell_type": "code",
   "execution_count": 443,
   "metadata": {},
   "outputs": [
    {
     "data": {
      "text/plain": [
       "2605"
      ]
     },
     "execution_count": 443,
     "metadata": {},
     "output_type": "execute_result"
    }
   ],
   "source": [
    "len(model_1.wv.vocab)"
   ]
  },
  {
   "cell_type": "code",
   "execution_count": 444,
   "metadata": {},
   "outputs": [
    {
     "data": {
      "text/plain": [
       "3000"
      ]
     },
     "execution_count": 444,
     "metadata": {},
     "output_type": "execute_result"
    }
   ],
   "source": [
    "len(model_2.wv.vocab)"
   ]
  },
  {
   "cell_type": "code",
   "execution_count": 481,
   "metadata": {},
   "outputs": [],
   "source": [
    "# label weights\n",
    "c = 1.0\n",
    "s = 20.0\n",
    "d = 50.0\n",
    "q = 60.0"
   ]
  },
  {
   "cell_type": "code",
   "execution_count": 482,
   "metadata": {},
   "outputs": [
    {
     "name": "stdout",
     "output_type": "stream",
     "text": [
      "_________________________________________________________________\n",
      "Layer (type)                 Output Shape              Param #   \n",
      "=================================================================\n",
      "embedding_22 (Embedding)     (None, 100, 128)          717440    \n",
      "_________________________________________________________________\n",
      "spatial_dropout1d_29 (Spatia (None, 100, 128)          0         \n",
      "_________________________________________________________________\n",
      "lstm_40 (LSTM)               (None, 64)                49408     \n",
      "_________________________________________________________________\n",
      "dense_32 (Dense)             (None, 4)                 260       \n",
      "=================================================================\n",
      "Total params: 767,108\n",
      "Trainable params: 767,108\n",
      "Non-trainable params: 0\n",
      "_________________________________________________________________\n",
      "None\n",
      "Train on 739 samples, validate on 185 samples\n",
      "Epoch 1/100\n",
      "739/739 [==============================] - 7s 10ms/step - loss: 21.9685 - acc: 0.2030 - val_loss: 20.5380 - val_acc: 0.3027\n",
      "Epoch 2/100\n",
      "739/739 [==============================] - 3s 4ms/step - loss: 20.6299 - acc: 0.1854 - val_loss: 19.4156 - val_acc: 0.1081\n",
      "Epoch 3/100\n",
      "739/739 [==============================] - 3s 4ms/step - loss: 20.5842 - acc: 0.1258 - val_loss: 19.1769 - val_acc: 0.1081\n",
      "Epoch 4/100\n",
      "739/739 [==============================] - 10802s 15s/step - loss: 20.1903 - acc: 0.1407 - val_loss: 19.2064 - val_acc: 0.0649\n",
      "Epoch 5/100\n",
      "739/739 [==============================] - 3s 4ms/step - loss: 20.2930 - acc: 0.1218 - val_loss: 19.3748 - val_acc: 0.0649\n",
      "Epoch 6/100\n",
      "739/739 [==============================] - 16332s 22s/step - loss: 20.0917 - acc: 0.1204 - val_loss: 19.3648 - val_acc: 0.0649\n",
      "Epoch 7/100\n",
      "739/739 [==============================] - 4s 5ms/step - loss: 20.0419 - acc: 0.1258 - val_loss: 19.2191 - val_acc: 0.0649\n",
      "Epoch 8/100\n",
      "739/739 [==============================] - 4s 5ms/step - loss: 20.2600 - acc: 0.1218 - val_loss: 19.3330 - val_acc: 0.0649\n",
      "Epoch 9/100\n",
      "739/739 [==============================] - 3s 4ms/step - loss: 20.1485 - acc: 0.1069 - val_loss: 19.3738 - val_acc: 0.0649\n",
      "Epoch 10/100\n",
      "739/739 [==============================] - 5s 7ms/step - loss: 20.0696 - acc: 0.1326 - val_loss: 19.3817 - val_acc: 0.0649\n"
     ]
    }
   ],
   "source": [
    "epochs = 100\n",
    "emb_dim = 128\n",
    "batch_size = 32\n",
    "\n",
    "model = Sequential()\n",
    "model.add(Embedding(5605, emb_dim, input_length=df.shape[1]))\n",
    "model.add(SpatialDropout1D(0.7))\n",
    "model.add(LSTM(64, dropout=0.7, recurrent_dropout=0.7))\n",
    "model.add(Dense(4, activation='softmax'))\n",
    "model.compile(optimizer='adam', loss='categorical_crossentropy', metrics=['acc'])\n",
    "print(model.summary())\n",
    "history = model.fit(X_train, y_train, epochs=epochs, batch_size=batch_size,class_weight={0:s,1:d,2:q,3:c},validation_split=0.2,callbacks=[EarlyStopping(monitor='val_loss',patience=7, min_delta=0.0001)])\n",
    "#history = model.fit(X_train, y_train, epochs=epochs, batch_size=batch_size,validation_split=0.2,callbacks=[EarlyStopping(monitor='val_loss',patience=7, min_delta=0.0001)])"
   ]
  },
  {
   "cell_type": "code",
   "execution_count": 483,
   "metadata": {},
   "outputs": [
    {
     "name": "stdout",
     "output_type": "stream",
     "text": [
      "231/231 [==============================] - 0s 2ms/step\n",
      "Test set\n",
      "  Loss: 2.229\n",
      "  Accuracy: 0.108\n"
     ]
    }
   ],
   "source": [
    "accr = model.evaluate(X_test,y_test)\n",
    "print('Test set\\n  Loss: {:0.3f}\\n  Accuracy: {:0.3f}'.format(accr[0],accr[1]))"
   ]
  },
  {
   "cell_type": "code",
   "execution_count": 484,
   "metadata": {},
   "outputs": [
    {
     "data": {
      "image/png": "[encoded data removed]",
      "text/plain": [
       "<Figure size 432x288 with 1 Axes>"
      ]
     },
     "metadata": {
      "needs_background": "light"
     },
     "output_type": "display_data"
    },
    {
     "data": {
      "image/png": "[encoded data removed]",
      "text/plain": [
       "<Figure size 432x288 with 1 Axes>"
      ]
     },
     "metadata": {
      "needs_background": "light"
     },
     "output_type": "display_data"
    }
   ],
   "source": [
    "import matplotlib.pyplot as plt\n",
    "\n",
    "acc = history.history['acc']\n",
    "val_acc = history.history['val_acc']\n",
    "loss = history.history['loss']\n",
    "val_loss = history.history['val_loss']\n",
    "\n",
    "epochs = range(1, len(acc) + 1)\n",
    "\n",
    "plt.plot(epochs, acc, 'bo', label='Training acc')\n",
    "plt.plot(epochs, val_acc, 'b', label='Validation acc')\n",
    "plt.title('Training and validation accuracy')\n",
    "plt.legend()\n",
    "\n",
    "plt.figure()\n",
    "\n",
    "plt.plot(epochs, loss, 'bo', label='Training loss')\n",
    "plt.plot(epochs, val_loss, 'b', label='Validation loss')\n",
    "plt.title('Training and validation loss')\n",
    "plt.legend()\n",
    "\n",
    "plt.show()"
   ]
  },
  {
   "cell_type": "code",
   "execution_count": 485,
   "metadata": {},
   "outputs": [],
   "source": [
    "pred = model.predict(X_test)"
   ]
  },
  {
   "cell_type": "code",
   "execution_count": 486,
   "metadata": {},
   "outputs": [],
   "source": [
    "ary = []\n",
    "lb = ['supporting', 'denying', 'questioning', 'commenting']\n",
    "for i in range(pred.shape[0]):\n",
    "    ary.append(lb[np.argmax(pred[i])])"
   ]
  },
  {
   "cell_type": "code",
   "execution_count": 487,
   "metadata": {},
   "outputs": [],
   "source": [
    "sup = [1.,0.,0.,0.]\n",
    "den = [0.,1.,0.,0.]\n",
    "que = [0.,0.,1.,0.]\n",
    "com = [0.,0.,0.,1.]"
   ]
  },
  {
   "cell_type": "code",
   "execution_count": 488,
   "metadata": {},
   "outputs": [],
   "source": [
    "test = []\n",
    "for i in range(y_test.shape[0]):\n",
    "    if( list(y_test[i]) == sup ):\n",
    "        test.append('supporting')\n",
    "    elif( list(y_test[i]) == den ):\n",
    "        test.append('denying')\n",
    "    elif( list(y_test[i]) == que ):\n",
    "        test.append('questioning')\n",
    "    else:\n",
    "        test.append('commenting')\n"
   ]
  },
  {
   "cell_type": "code",
   "execution_count": 489,
   "metadata": {},
   "outputs": [],
   "source": [
    "results = pd.DataFrame(test)\n",
    "results.columns = ['test']\n",
    "results['predictions'] = ary"
   ]
  },
  {
   "cell_type": "code",
   "execution_count": 490,
   "metadata": {},
   "outputs": [
    {
     "data": {
      "text/html": [
       "<div>\n",
       "<style scoped>\n",
       "    .dataframe tbody tr th:only-of-type {\n",
       "        vertical-align: middle;\n",
       "    }\n",
       "\n",
       "    .dataframe tbody tr th {\n",
       "        vertical-align: top;\n",
       "    }\n",
       "\n",
       "    .dataframe thead th {\n",
       "        text-align: right;\n",
       "    }\n",
       "</style>\n",
       "<table border=\"1\" class=\"dataframe\">\n",
       "  <thead>\n",
       "    <tr style=\"text-align: right;\">\n",
       "      <th></th>\n",
       "      <th>test</th>\n",
       "      <th>predictions</th>\n",
       "    </tr>\n",
       "  </thead>\n",
       "  <tbody>\n",
       "    <tr>\n",
       "      <th>0</th>\n",
       "      <td>commenting</td>\n",
       "      <td>questioning</td>\n",
       "    </tr>\n",
       "    <tr>\n",
       "      <th>1</th>\n",
       "      <td>commenting</td>\n",
       "      <td>questioning</td>\n",
       "    </tr>\n",
       "    <tr>\n",
       "      <th>2</th>\n",
       "      <td>commenting</td>\n",
       "      <td>questioning</td>\n",
       "    </tr>\n",
       "    <tr>\n",
       "      <th>3</th>\n",
       "      <td>denying</td>\n",
       "      <td>questioning</td>\n",
       "    </tr>\n",
       "    <tr>\n",
       "      <th>4</th>\n",
       "      <td>denying</td>\n",
       "      <td>questioning</td>\n",
       "    </tr>\n",
       "  </tbody>\n",
       "</table>\n",
       "</div>"
      ],
      "text/plain": [
       "         test  predictions\n",
       "0  commenting  questioning\n",
       "1  commenting  questioning\n",
       "2  commenting  questioning\n",
       "3     denying  questioning\n",
       "4     denying  questioning"
      ]
     },
     "execution_count": 490,
     "metadata": {},
     "output_type": "execute_result"
    }
   ],
   "source": [
    "results.head()"
   ]
  },
  {
   "cell_type": "code",
   "execution_count": 491,
   "metadata": {},
   "outputs": [
    {
     "data": {
      "text/plain": [
       "<matplotlib.axes._subplots.AxesSubplot at 0x1d24c28c9b0>"
      ]
     },
     "execution_count": 491,
     "metadata": {},
     "output_type": "execute_result"
    },
    {
     "data": {
      "image/png": "[encoded data removed]",
      "text/plain": [
       "<Figure size 432x288 with 1 Axes>"
      ]
     },
     "metadata": {
      "needs_background": "light"
     },
     "output_type": "display_data"
    }
   ],
   "source": [
    "results.predictions.value_counts().plot(kind='bar')"
   ]
  },
  {
   "cell_type": "code",
   "execution_count": null,
   "metadata": {},
   "outputs": [],
   "source": []
  }
 ],
 "metadata": {
  "kernelspec": {
   "display_name": "Python 3",
   "language": "python",
   "name": "python3"
  },
  "language_info": {
   "codemirror_mode": {
    "name": "ipython",
    "version": 3
   },
   "file_extension": ".py",
   "mimetype": "text/x-python",
   "name": "python",
   "nbconvert_exporter": "python",
   "pygments_lexer": "ipython3",
   "version": "3.7.3"
  }
 },
 "nbformat": 4,
 "nbformat_minor": 2
}
