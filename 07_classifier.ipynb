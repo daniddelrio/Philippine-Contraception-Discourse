{
 "cells": [
  {
   "cell_type": "code",
   "execution_count": 431,
   "metadata": {},
   "outputs": [],
   "source": [
    "import numpy as np # linear algebra\n",
    "import pandas as pd # data processing, CSV file I/O (e.g. pd.read_csv)\n",
    "\n",
    "from keras.models import Sequential\n",
    "from keras.layers import Dense, Embedding, LSTM, SpatialDropout1D\n",
    "from keras.preprocessing.sequence import pad_sequences\n",
    "from sklearn.model_selection import train_test_split\n",
    "from keras.utils.np_utils import to_categorical\n",
    "from keras.callbacks import EarlyStopping\n",
    "\n",
    "import gensim\n",
    "from gensim.models.doc2vec import Doc2Vec, TaggedDocument\n",
    "from keras.layers import Flatten"
   ]
  },
  {
   "cell_type": "code",
   "execution_count": 432,
   "metadata": {},
   "outputs": [
    {
     "data": {
      "text/html": [
       "<div>\n",
       "<style scoped>\n",
       "    .dataframe tbody tr th:only-of-type {\n",
       "        vertical-align: middle;\n",
       "    }\n",
       "\n",
       "    .dataframe tbody tr th {\n",
       "        vertical-align: top;\n",
       "    }\n",
       "\n",
       "    .dataframe thead th {\n",
       "        text-align: right;\n",
       "    }\n",
       "</style>\n",
       "<table border=\"1\" class=\"dataframe\">\n",
       "  <thead>\n",
       "    <tr style=\"text-align: right;\">\n",
       "      <th></th>\n",
       "      <th>labels</th>\n",
       "      <th>body</th>\n",
       "      <th>parent</th>\n",
       "      <th>score</th>\n",
       "    </tr>\n",
       "  </thead>\n",
       "  <tbody>\n",
       "    <tr>\n",
       "      <th>0</th>\n",
       "      <td>supporting</td>\n",
       "      <td>no question want thank post topic birth contro...</td>\n",
       "      <td>updated september scroll downhi lengthy post c...</td>\n",
       "      <td>31</td>\n",
       "    </tr>\n",
       "    <tr>\n",
       "      <th>1</th>\n",
       "      <td>supporting</td>\n",
       "      <td>holy shit thank much someone recently turn sup...</td>\n",
       "      <td>updated september scroll downhi lengthy post c...</td>\n",
       "      <td>7</td>\n",
       "    </tr>\n",
       "  </tbody>\n",
       "</table>\n",
       "</div>"
      ],
      "text/plain": [
       "       labels                                               body  \\\n",
       "0  supporting  no question want thank post topic birth contro...   \n",
       "1  supporting  holy shit thank much someone recently turn sup...   \n",
       "\n",
       "                                              parent  score  \n",
       "0  updated september scroll downhi lengthy post c...     31  \n",
       "1  updated september scroll downhi lengthy post c...      7  "
      ]
     },
     "execution_count": 432,
     "metadata": {},
     "output_type": "execute_result"
    }
   ],
   "source": [
    "data = pd.read_csv('datasets/labelled_dataset.csv',index_col=0)\n",
    "data = data[['labels','body','parent','score']]\n",
    "data.head(2)"
   ]
  },
  {
   "cell_type": "markdown",
   "metadata": {},
   "source": [
    "## Checking Label Distribution and Assigning Weights"
   ]
  },
  {
   "cell_type": "code",
   "execution_count": 433,
   "metadata": {},
   "outputs": [
    {
     "data": {
      "text/plain": [
       "commenting     614\n",
       "supporting     299\n",
       "denying        137\n",
       "questioning    105\n",
       "Name: labels, dtype: int64"
      ]
     },
     "execution_count": 433,
     "metadata": {},
     "output_type": "execute_result"
    }
   ],
   "source": [
    "data.labels.value_counts()"
   ]
  },
  {
   "cell_type": "code",
   "execution_count": 434,
   "metadata": {},
   "outputs": [
    {
     "data": {
      "text/plain": [
       "<matplotlib.axes._subplots.AxesSubplot at 0x2e3425f4278>"
      ]
     },
     "execution_count": 434,
     "metadata": {},
     "output_type": "execute_result"
    },
    {
     "data": {
      "image/png": "[encoded data removed]",
      "text/plain": [
       "<Figure size 432x288 with 1 Axes>"
      ]
     },
     "metadata": {
      "needs_background": "light"
     },
     "output_type": "display_data"
    }
   ],
   "source": [
    "data.labels.value_counts().plot(kind='bar')"
   ]
  },
  {
   "cell_type": "code",
   "execution_count": 435,
   "metadata": {},
   "outputs": [
    {
     "data": {
      "text/html": [
       "<div>\n",
       "<style scoped>\n",
       "    .dataframe tbody tr th:only-of-type {\n",
       "        vertical-align: middle;\n",
       "    }\n",
       "\n",
       "    .dataframe tbody tr th {\n",
       "        vertical-align: top;\n",
       "    }\n",
       "\n",
       "    .dataframe thead th {\n",
       "        text-align: right;\n",
       "    }\n",
       "</style>\n",
       "<table border=\"1\" class=\"dataframe\">\n",
       "  <thead>\n",
       "    <tr style=\"text-align: right;\">\n",
       "      <th></th>\n",
       "      <th>labels</th>\n",
       "      <th>body</th>\n",
       "      <th>parent</th>\n",
       "      <th>score</th>\n",
       "    </tr>\n",
       "  </thead>\n",
       "  <tbody>\n",
       "    <tr>\n",
       "      <th>0</th>\n",
       "      <td>0</td>\n",
       "      <td>no question want thank post topic birth contro...</td>\n",
       "      <td>updated september scroll downhi lengthy post c...</td>\n",
       "      <td>31</td>\n",
       "    </tr>\n",
       "    <tr>\n",
       "      <th>1</th>\n",
       "      <td>0</td>\n",
       "      <td>holy shit thank much someone recently turn sup...</td>\n",
       "      <td>updated september scroll downhi lengthy post c...</td>\n",
       "      <td>7</td>\n",
       "    </tr>\n",
       "  </tbody>\n",
       "</table>\n",
       "</div>"
      ],
      "text/plain": [
       "   labels                                               body  \\\n",
       "0       0  no question want thank post topic birth contro...   \n",
       "1       0  holy shit thank much someone recently turn sup...   \n",
       "\n",
       "                                              parent  score  \n",
       "0  updated september scroll downhi lengthy post c...     31  \n",
       "1  updated september scroll downhi lengthy post c...      7  "
      ]
     },
     "execution_count": 435,
     "metadata": {},
     "output_type": "execute_result"
    }
   ],
   "source": [
    "# turning into integers\n",
    "data.loc[data['labels'] == 'supporting', 'labels'] = 0\n",
    "data.loc[data['labels'] == 'denying', 'labels'] = 1\n",
    "data.loc[data['labels'] == 'questioning', 'labels'] = 2\n",
    "data.loc[data['labels'] == 'commenting', 'labels'] = 3\n",
    "data.head(2)"
   ]
  },
  {
   "cell_type": "code",
   "execution_count": 436,
   "metadata": {},
   "outputs": [
    {
     "data": {
      "text/plain": [
       "array([[1., 0., 0., 0.],\n",
       "       [1., 0., 0., 0.],\n",
       "       [0., 0., 0., 1.],\n",
       "       ...,\n",
       "       [0., 0., 0., 1.],\n",
       "       [0., 0., 0., 1.],\n",
       "       [0., 0., 0., 1.]], dtype=float32)"
      ]
     },
     "execution_count": 436,
     "metadata": {},
     "output_type": "execute_result"
    }
   ],
   "source": [
    "# one-hot encoding\n",
    "labels = to_categorical(data['labels'], num_classes=4)\n",
    "labels"
   ]
  },
  {
   "cell_type": "markdown",
   "metadata": {},
   "source": [
    "## Vectorizing with Doc2Vec"
   ]
  },
  {
   "cell_type": "code",
   "execution_count": 458,
   "metadata": {},
   "outputs": [],
   "source": [
    "from gensim.test.utils import common_texts\n",
    "from gensim.models.doc2vec import Doc2Vec, TaggedDocument\n",
    "import numpy as np\n",
    "\n",
    "# documents = [TaggedDocument(doc, [i]) for i, doc in enumerate(common_texts)]\n",
    "comments = [TaggedDocument(row[1][2], [index]) for index, row in data.iterrows()]\n",
    "source = [TaggedDocument(row[1][3], [index]) for index, row in data.iterrows()]"
   ]
  },
  {
   "cell_type": "code",
   "execution_count": 459,
   "metadata": {},
   "outputs": [
    {
     "name": "stderr",
     "output_type": "stream",
     "text": [
      "W0722 11:04:36.337714 11096 base_any2vec.py:723] consider setting layer size to a multiple of 4 for greater performance\n",
      "W0722 11:04:36.338711 11096 doc2vec.py:1314] Each 'words' should be a list of words (usually unicode strings). First 'words' here is instead plain <class 'str'>.\n",
      "W0722 11:04:36.485318 11096 base_any2vec.py:1386] under 10 jobs per worker: consider setting a smaller `batch_words' for smoother alpha decay\n",
      "W0722 11:04:36.487313 11096 base_any2vec.py:723] consider setting layer size to a multiple of 4 for greater performance\n",
      "W0722 11:04:36.488310 11096 doc2vec.py:1314] Each 'words' should be a list of words (usually unicode strings). First 'words' here is instead plain <class 'str'>.\n",
      "W0722 11:04:37.018743 11096 base_any2vec.py:1386] under 10 jobs per worker: consider setting a smaller `batch_words' for smoother alpha decay\n"
     ]
    }
   ],
   "source": [
    "model_comments = Doc2Vec(comments, vector_size=5, window=2, min_count=1, workers=4)\n",
    "model_source = Doc2Vec(source, vector_size=5, window=2, min_count=1, workers=4)"
   ]
  },
  {
   "cell_type": "code",
   "execution_count": 497,
   "metadata": {},
   "outputs": [],
   "source": [
    "final_vec_list = [\n",
    "    np.append(model_comments.docvecs[i], model_source.docvecs[i])\n",
    "    for i in range(len(model_comments.docvecs))\n",
    "]"
   ]
  },
  {
   "cell_type": "code",
   "execution_count": 498,
   "metadata": {},
   "outputs": [],
   "source": [
    "np_vec_list = np.asarray(final_vec_list)"
   ]
  },
  {
   "cell_type": "code",
   "execution_count": 1042,
   "metadata": {},
   "outputs": [],
   "source": [
    "X_train, X_test, Y_train, Y_test = train_test_split(np_vec_list, labels, test_size=0.2)"
   ]
  },
  {
   "cell_type": "markdown",
   "metadata": {},
   "source": [
    "## Modeling with LSTM"
   ]
  },
  {
   "cell_type": "code",
   "execution_count": 1043,
   "metadata": {},
   "outputs": [
    {
     "data": {
      "text/plain": [
       "(1155, 4)"
      ]
     },
     "execution_count": 1043,
     "metadata": {},
     "output_type": "execute_result"
    }
   ],
   "source": [
    "data.shape"
   ]
  },
  {
   "cell_type": "code",
   "execution_count": 1044,
   "metadata": {},
   "outputs": [
    {
     "data": {
      "text/plain": [
       "(924, 10)"
      ]
     },
     "execution_count": 1044,
     "metadata": {},
     "output_type": "execute_result"
    }
   ],
   "source": [
    "X_train.shape"
   ]
  },
  {
   "cell_type": "code",
   "execution_count": 1045,
   "metadata": {},
   "outputs": [],
   "source": [
    "Y_train = np.asarray(Y_train)"
   ]
  },
  {
   "cell_type": "code",
   "execution_count": 1046,
   "metadata": {},
   "outputs": [],
   "source": [
    "Y_test = np.asarray(Y_test)"
   ]
  },
  {
   "cell_type": "code",
   "execution_count": 1047,
   "metadata": {},
   "outputs": [],
   "source": [
    "X_train = np.reshape(X_train, (X_train.shape[0], 1, X_train.shape[1]))\n",
    "X_test = np.reshape(X_test, (X_test.shape[0], 1, X_test.shape[1]))"
   ]
  },
  {
   "cell_type": "code",
   "execution_count": 1049,
   "metadata": {},
   "outputs": [],
   "source": [
    "# label weights\n",
    "\n",
    "c = 12.2\n",
    "s = 22.9\n",
    "d = 40.1\n",
    "q = 50.3"
   ]
  },
  {
   "cell_type": "code",
   "execution_count": 1050,
   "metadata": {},
   "outputs": [
    {
     "name": "stderr",
     "output_type": "stream",
     "text": [
      "c:\\users\\limri\\appdata\\local\\programs\\python\\python37\\lib\\site-packages\\ipykernel_launcher.py:7: UserWarning: Update your `Dense` call to the Keras 2 API: `Dense(activation=\"softmax\", units=4)`\n",
      "  import sys\n"
     ]
    },
    {
     "name": "stdout",
     "output_type": "stream",
     "text": [
      "Train on 739 samples, validate on 185 samples\n",
      "Epoch 1/100\n",
      "739/739 [==============================] - 13s 18ms/step - loss: 29.1703 - acc: 0.3694 - val_loss: 30.4311 - val_acc: 0.4649\n",
      "Epoch 2/100\n",
      "739/739 [==============================] - 0s 63us/step - loss: 29.1141 - acc: 0.4723 - val_loss: 30.3913 - val_acc: 0.4919\n",
      "Epoch 3/100\n",
      "739/739 [==============================] - 0s 63us/step - loss: 29.0538 - acc: 0.5304 - val_loss: 30.3627 - val_acc: 0.5081\n",
      "Epoch 4/100\n",
      "739/739 [==============================] - 0s 61us/step - loss: 29.0046 - acc: 0.5521 - val_loss: 30.3335 - val_acc: 0.5135\n",
      "Epoch 5/100\n",
      "739/739 [==============================] - 0s 65us/step - loss: 28.9638 - acc: 0.5535 - val_loss: 30.3077 - val_acc: 0.5135\n",
      "Epoch 6/100\n",
      "739/739 [==============================] - 0s 66us/step - loss: 28.9180 - acc: 0.5535 - val_loss: 30.2903 - val_acc: 0.5135\n",
      "Epoch 7/100\n",
      "739/739 [==============================] - 0s 72us/step - loss: 28.8817 - acc: 0.5535 - val_loss: 30.2730 - val_acc: 0.5135\n",
      "Epoch 8/100\n",
      "739/739 [==============================] - 0s 66us/step - loss: 28.8472 - acc: 0.5535 - val_loss: 30.2555 - val_acc: 0.5135\n",
      "Epoch 9/100\n",
      "739/739 [==============================] - 0s 63us/step - loss: 28.8160 - acc: 0.5535 - val_loss: 30.2475 - val_acc: 0.5135\n",
      "Epoch 10/100\n",
      "739/739 [==============================] - 0s 62us/step - loss: 28.7862 - acc: 0.5535 - val_loss: 30.2435 - val_acc: 0.5135\n",
      "Epoch 11/100\n",
      "739/739 [==============================] - 0s 63us/step - loss: 28.7666 - acc: 0.5535 - val_loss: 30.2388 - val_acc: 0.5135\n",
      "Epoch 12/100\n",
      "739/739 [==============================] - 0s 65us/step - loss: 28.7433 - acc: 0.5535 - val_loss: 30.2396 - val_acc: 0.5135\n",
      "Epoch 13/100\n",
      "739/739 [==============================] - 0s 65us/step - loss: 28.7321 - acc: 0.5535 - val_loss: 30.2397 - val_acc: 0.5135\n",
      "Epoch 14/100\n",
      "739/739 [==============================] - 0s 69us/step - loss: 28.7143 - acc: 0.5535 - val_loss: 30.2449 - val_acc: 0.5135\n",
      "Epoch 15/100\n",
      "739/739 [==============================] - 0s 65us/step - loss: 28.7095 - acc: 0.5535 - val_loss: 30.2484 - val_acc: 0.5135\n",
      "Epoch 16/100\n",
      "739/739 [==============================] - 0s 80us/step - loss: 28.6924 - acc: 0.5535 - val_loss: 30.2555 - val_acc: 0.5135\n",
      "Epoch 17/100\n",
      "739/739 [==============================] - 0s 65us/step - loss: 28.6872 - acc: 0.5535 - val_loss: 30.2636 - val_acc: 0.5135\n",
      "Epoch 18/100\n",
      "739/739 [==============================] - 0s 69us/step - loss: 28.6750 - acc: 0.5535 - val_loss: 30.2666 - val_acc: 0.5135\n",
      "Epoch 19/100\n",
      "739/739 [==============================] - 0s 63us/step - loss: 28.6705 - acc: 0.5535 - val_loss: 30.2732 - val_acc: 0.5135\n",
      "Epoch 20/100\n",
      "739/739 [==============================] - 0s 62us/step - loss: 28.6602 - acc: 0.5535 - val_loss: 30.2765 - val_acc: 0.5135\n",
      "Epoch 21/100\n",
      "739/739 [==============================] - 0s 63us/step - loss: 28.6559 - acc: 0.5535 - val_loss: 30.2794 - val_acc: 0.5135\n",
      "Epoch 22/100\n",
      "739/739 [==============================] - 0s 62us/step - loss: 28.6546 - acc: 0.5535 - val_loss: 30.2732 - val_acc: 0.5135\n",
      "Epoch 23/100\n",
      "739/739 [==============================] - 0s 63us/step - loss: 28.6428 - acc: 0.5535 - val_loss: 30.2836 - val_acc: 0.5135\n",
      "Epoch 24/100\n",
      "739/739 [==============================] - 0s 63us/step - loss: 28.6392 - acc: 0.5535 - val_loss: 30.2869 - val_acc: 0.5135\n",
      "Epoch 25/100\n",
      "739/739 [==============================] - 0s 65us/step - loss: 28.6323 - acc: 0.5535 - val_loss: 30.2802 - val_acc: 0.5135\n",
      "Epoch 26/100\n",
      "739/739 [==============================] - 0s 62us/step - loss: 28.6277 - acc: 0.5535 - val_loss: 30.2874 - val_acc: 0.5135\n",
      "Epoch 27/100\n",
      "739/739 [==============================] - 0s 65us/step - loss: 28.6228 - acc: 0.5535 - val_loss: 30.2870 - val_acc: 0.5135\n",
      "Epoch 28/100\n",
      "739/739 [==============================] - 0s 63us/step - loss: 28.6188 - acc: 0.5535 - val_loss: 30.2944 - val_acc: 0.5135\n",
      "Epoch 29/100\n",
      "739/739 [==============================] - 0s 69us/step - loss: 28.6133 - acc: 0.5535 - val_loss: 30.2883 - val_acc: 0.5135\n",
      "Epoch 30/100\n",
      "739/739 [==============================] - 0s 65us/step - loss: 28.6040 - acc: 0.5535 - val_loss: 30.2875 - val_acc: 0.5135\n",
      "Epoch 31/100\n",
      "739/739 [==============================] - 0s 63us/step - loss: 28.6007 - acc: 0.5535 - val_loss: 30.2883 - val_acc: 0.5135\n",
      "Epoch 32/100\n",
      "739/739 [==============================] - 0s 63us/step - loss: 28.5934 - acc: 0.5535 - val_loss: 30.2950 - val_acc: 0.5135\n",
      "Epoch 33/100\n",
      "739/739 [==============================] - 0s 65us/step - loss: 28.5895 - acc: 0.5535 - val_loss: 30.2971 - val_acc: 0.5135\n",
      "Epoch 34/100\n",
      "739/739 [==============================] - 0s 69us/step - loss: 28.5842 - acc: 0.5535 - val_loss: 30.2995 - val_acc: 0.5135\n",
      "Epoch 35/100\n",
      "739/739 [==============================] - 0s 62us/step - loss: 28.5769 - acc: 0.5535 - val_loss: 30.2935 - val_acc: 0.5135\n",
      "Epoch 36/100\n",
      "739/739 [==============================] - 0s 76us/step - loss: 28.5735 - acc: 0.5535 - val_loss: 30.2987 - val_acc: 0.5135\n",
      "Epoch 37/100\n",
      "739/739 [==============================] - 0s 62us/step - loss: 28.5650 - acc: 0.5535 - val_loss: 30.3030 - val_acc: 0.5135\n",
      "Epoch 38/100\n",
      "739/739 [==============================] - 0s 67us/step - loss: 28.5614 - acc: 0.5535 - val_loss: 30.3079 - val_acc: 0.5135\n",
      "Epoch 39/100\n",
      "739/739 [==============================] - 0s 63us/step - loss: 28.5548 - acc: 0.5535 - val_loss: 30.3167 - val_acc: 0.5135\n",
      "Epoch 40/100\n",
      "739/739 [==============================] - 0s 67us/step - loss: 28.5483 - acc: 0.5535 - val_loss: 30.3133 - val_acc: 0.5135\n",
      "Epoch 41/100\n",
      "739/739 [==============================] - 0s 65us/step - loss: 28.5420 - acc: 0.5535 - val_loss: 30.3150 - val_acc: 0.5135\n",
      "Epoch 42/100\n",
      "739/739 [==============================] - 0s 63us/step - loss: 28.5394 - acc: 0.5535 - val_loss: 30.3237 - val_acc: 0.5135\n",
      "Epoch 43/100\n",
      "739/739 [==============================] - 0s 63us/step - loss: 28.5319 - acc: 0.5535 - val_loss: 30.3188 - val_acc: 0.5135\n",
      "Epoch 44/100\n",
      "739/739 [==============================] - 0s 62us/step - loss: 28.5254 - acc: 0.5535 - val_loss: 30.3211 - val_acc: 0.5135\n",
      "Epoch 45/100\n",
      "739/739 [==============================] - 0s 61us/step - loss: 28.5194 - acc: 0.5535 - val_loss: 30.3207 - val_acc: 0.5135\n",
      "Epoch 46/100\n",
      "739/739 [==============================] - 0s 65us/step - loss: 28.5140 - acc: 0.5548 - val_loss: 30.3198 - val_acc: 0.5135\n",
      "Epoch 47/100\n",
      "739/739 [==============================] - 0s 63us/step - loss: 28.5093 - acc: 0.5535 - val_loss: 30.3233 - val_acc: 0.5081\n",
      "Epoch 48/100\n",
      "739/739 [==============================] - 0s 62us/step - loss: 28.5048 - acc: 0.5521 - val_loss: 30.3330 - val_acc: 0.5081\n",
      "Epoch 49/100\n",
      "739/739 [==============================] - 0s 69us/step - loss: 28.4970 - acc: 0.5521 - val_loss: 30.3296 - val_acc: 0.5027\n",
      "Epoch 50/100\n",
      "739/739 [==============================] - 0s 65us/step - loss: 28.4959 - acc: 0.5507 - val_loss: 30.3417 - val_acc: 0.5027\n",
      "Epoch 51/100\n",
      "739/739 [==============================] - 0s 67us/step - loss: 28.4913 - acc: 0.5494 - val_loss: 30.3249 - val_acc: 0.5027\n",
      "Epoch 52/100\n",
      "739/739 [==============================] - 0s 81us/step - loss: 28.4821 - acc: 0.5494 - val_loss: 30.3331 - val_acc: 0.5027\n",
      "Epoch 53/100\n",
      "739/739 [==============================] - 0s 80us/step - loss: 28.4763 - acc: 0.5494 - val_loss: 30.3386 - val_acc: 0.5027\n",
      "Epoch 54/100\n",
      "739/739 [==============================] - 0s 70us/step - loss: 28.4717 - acc: 0.5507 - val_loss: 30.3441 - val_acc: 0.5027\n",
      "Epoch 55/100\n",
      "739/739 [==============================] - 0s 76us/step - loss: 28.4660 - acc: 0.5494 - val_loss: 30.3489 - val_acc: 0.5027\n",
      "Epoch 56/100\n",
      "739/739 [==============================] - 0s 78us/step - loss: 28.4646 - acc: 0.5480 - val_loss: 30.3509 - val_acc: 0.4973\n",
      "Epoch 57/100\n",
      "739/739 [==============================] - 0s 66us/step - loss: 28.4590 - acc: 0.5494 - val_loss: 30.3697 - val_acc: 0.5027\n",
      "Epoch 58/100\n",
      "739/739 [==============================] - 0s 64us/step - loss: 28.4516 - acc: 0.5480 - val_loss: 30.3673 - val_acc: 0.4919\n",
      "Epoch 59/100\n",
      "739/739 [==============================] - 0s 76us/step - loss: 28.4483 - acc: 0.5386 - val_loss: 30.3707 - val_acc: 0.4865\n",
      "Epoch 60/100\n",
      "739/739 [==============================] - 0s 63us/step - loss: 28.4419 - acc: 0.5426 - val_loss: 30.3729 - val_acc: 0.4811\n",
      "Epoch 61/100\n",
      "739/739 [==============================] - 0s 66us/step - loss: 28.4424 - acc: 0.5440 - val_loss: 30.3824 - val_acc: 0.4811\n",
      "Epoch 62/100\n",
      "739/739 [==============================] - 0s 70us/step - loss: 28.4372 - acc: 0.5426 - val_loss: 30.3686 - val_acc: 0.4703\n",
      "Epoch 63/100\n",
      "739/739 [==============================] - 0s 66us/step - loss: 28.4359 - acc: 0.5440 - val_loss: 30.3736 - val_acc: 0.4703\n",
      "Epoch 64/100\n",
      "739/739 [==============================] - 0s 69us/step - loss: 28.4264 - acc: 0.5440 - val_loss: 30.3779 - val_acc: 0.4703\n",
      "Epoch 65/100\n",
      "739/739 [==============================] - 0s 86us/step - loss: 28.4232 - acc: 0.5386 - val_loss: 30.3787 - val_acc: 0.4595\n",
      "Epoch 66/100\n",
      "739/739 [==============================] - 0s 67us/step - loss: 28.4221 - acc: 0.5359 - val_loss: 30.3693 - val_acc: 0.4649\n",
      "Epoch 67/100\n",
      "739/739 [==============================] - 0s 63us/step - loss: 28.4161 - acc: 0.5345 - val_loss: 30.3732 - val_acc: 0.4649\n",
      "Epoch 68/100\n",
      "739/739 [==============================] - 0s 62us/step - loss: 28.4129 - acc: 0.5345 - val_loss: 30.3776 - val_acc: 0.4595\n",
      "Epoch 69/100\n",
      "739/739 [==============================] - 0s 73us/step - loss: 28.4103 - acc: 0.5345 - val_loss: 30.3851 - val_acc: 0.4595\n",
      "Epoch 70/100\n",
      "739/739 [==============================] - 0s 65us/step - loss: 28.4117 - acc: 0.5372 - val_loss: 30.4110 - val_acc: 0.4595\n",
      "Epoch 71/100\n",
      "739/739 [==============================] - 0s 179us/step - loss: 28.4041 - acc: 0.5372 - val_loss: 30.4090 - val_acc: 0.4595\n",
      "Epoch 72/100\n",
      "739/739 [==============================] - 0s 238us/step - loss: 28.3989 - acc: 0.5372 - val_loss: 30.4195 - val_acc: 0.4486\n",
      "Epoch 73/100\n",
      "739/739 [==============================] - 0s 157us/step - loss: 28.3994 - acc: 0.5372 - val_loss: 30.4281 - val_acc: 0.4486\n",
      "Epoch 74/100\n",
      "739/739 [==============================] - 0s 144us/step - loss: 28.3949 - acc: 0.5372 - val_loss: 30.4363 - val_acc: 0.4486\n",
      "Epoch 75/100\n",
      "739/739 [==============================] - 0s 118us/step - loss: 28.3956 - acc: 0.5372 - val_loss: 30.4408 - val_acc: 0.4541\n",
      "Epoch 76/100\n",
      "739/739 [==============================] - 0s 121us/step - loss: 28.3932 - acc: 0.5359 - val_loss: 30.4192 - val_acc: 0.4486\n",
      "Epoch 77/100\n",
      "739/739 [==============================] - 0s 156us/step - loss: 28.3872 - acc: 0.5359 - val_loss: 30.4333 - val_acc: 0.4486\n",
      "Epoch 78/100\n",
      "739/739 [==============================] - 0s 123us/step - loss: 28.3859 - acc: 0.5372 - val_loss: 30.4417 - val_acc: 0.4486\n",
      "Epoch 79/100\n",
      "739/739 [==============================] - 0s 91us/step - loss: 28.3815 - acc: 0.5359 - val_loss: 30.4444 - val_acc: 0.4486\n",
      "Epoch 80/100\n",
      "739/739 [==============================] - 0s 86us/step - loss: 28.3812 - acc: 0.5318 - val_loss: 30.4416 - val_acc: 0.4486\n",
      "Epoch 81/100\n",
      "739/739 [==============================] - 0s 81us/step - loss: 28.3785 - acc: 0.5291 - val_loss: 30.4428 - val_acc: 0.4486\n",
      "Epoch 82/100\n",
      "739/739 [==============================] - 0s 86us/step - loss: 28.3763 - acc: 0.5304 - val_loss: 30.4498 - val_acc: 0.4541\n",
      "Epoch 83/100\n",
      "739/739 [==============================] - 0s 109us/step - loss: 28.3774 - acc: 0.5304 - val_loss: 30.4608 - val_acc: 0.4541\n",
      "Epoch 84/100\n",
      "739/739 [==============================] - 0s 93us/step - loss: 28.3828 - acc: 0.5291 - val_loss: 30.4515 - val_acc: 0.4541\n",
      "Epoch 85/100\n",
      "739/739 [==============================] - 0s 82us/step - loss: 28.3725 - acc: 0.5332 - val_loss: 30.4476 - val_acc: 0.4541\n",
      "Epoch 86/100\n",
      "739/739 [==============================] - 0s 80us/step - loss: 28.3677 - acc: 0.5291 - val_loss: 30.4558 - val_acc: 0.4595\n",
      "Epoch 87/100\n",
      "739/739 [==============================] - 0s 80us/step - loss: 28.3673 - acc: 0.5277 - val_loss: 30.4619 - val_acc: 0.4595\n",
      "Epoch 88/100\n",
      "739/739 [==============================] - 0s 92us/step - loss: 28.3657 - acc: 0.5277 - val_loss: 30.4756 - val_acc: 0.4595\n",
      "Epoch 89/100\n",
      "739/739 [==============================] - 0s 213us/step - loss: 28.3664 - acc: 0.5291 - val_loss: 30.4762 - val_acc: 0.4541\n",
      "Epoch 90/100\n",
      "739/739 [==============================] - 0s 102us/step - loss: 28.3624 - acc: 0.5318 - val_loss: 30.4767 - val_acc: 0.4649\n",
      "Epoch 91/100\n",
      "739/739 [==============================] - 0s 83us/step - loss: 28.3616 - acc: 0.5250 - val_loss: 30.4805 - val_acc: 0.4649\n",
      "Epoch 92/100\n",
      "739/739 [==============================] - 0s 82us/step - loss: 28.3646 - acc: 0.5250 - val_loss: 30.4761 - val_acc: 0.4595\n",
      "Epoch 93/100\n",
      "739/739 [==============================] - 0s 87us/step - loss: 28.3582 - acc: 0.5250 - val_loss: 30.4855 - val_acc: 0.4595\n",
      "Epoch 94/100\n",
      "739/739 [==============================] - 0s 86us/step - loss: 28.3570 - acc: 0.5250 - val_loss: 30.4882 - val_acc: 0.4595\n",
      "Epoch 95/100\n",
      "739/739 [==============================] - 0s 84us/step - loss: 28.3571 - acc: 0.5237 - val_loss: 30.4973 - val_acc: 0.4595\n",
      "Epoch 96/100\n",
      "739/739 [==============================] - 0s 90us/step - loss: 28.3553 - acc: 0.5223 - val_loss: 30.5023 - val_acc: 0.4486\n",
      "Epoch 97/100\n",
      "739/739 [==============================] - 0s 84us/step - loss: 28.3597 - acc: 0.5223 - val_loss: 30.5058 - val_acc: 0.4486\n",
      "Epoch 98/100\n",
      "739/739 [==============================] - 0s 90us/step - loss: 28.3567 - acc: 0.5264 - val_loss: 30.5046 - val_acc: 0.4595\n",
      "Epoch 99/100\n",
      "739/739 [==============================] - 0s 118us/step - loss: 28.3510 - acc: 0.5250 - val_loss: 30.5065 - val_acc: 0.4486\n",
      "Epoch 100/100\n",
      "739/739 [==============================] - 0s 104us/step - loss: 28.3551 - acc: 0.5210 - val_loss: 30.4969 - val_acc: 0.4486\n",
      "_________________________________________________________________\n",
      "Layer (type)                 Output Shape              Param #   \n",
      "=================================================================\n",
      "lstm_102 (LSTM)              (None, 30)                4920      \n",
      "_________________________________________________________________\n",
      "dense_95 (Dense)             (None, 4)                 124       \n",
      "=================================================================\n",
      "Total params: 5,044\n",
      "Trainable params: 5,044\n",
      "Non-trainable params: 0\n",
      "_________________________________________________________________\n"
     ]
    }
   ],
   "source": [
    "epochs = 100\n",
    "emb_dim = 128\n",
    "batch_size = 64\n",
    "\n",
    "model = Sequential()\n",
    "model.add(LSTM(30))\n",
    "model.add(Dense(output_dim=4,activation='softmax'))\n",
    "model.compile(optimizer='adam',loss='categorical_crossentropy',metrics=['acc'])\n",
    "# history = model.fit(X_train,Y_train,batch_size=batch_size,epochs=epochs,class_weight={0:s,1:d,2:q,3:c},validation_split=0.2,callbacks=[EarlyStopping(monitor='val_loss',patience=7, min_delta=0.0001)])\n",
    "history = model.fit(X_train,Y_train,batch_size=batch_size,epochs=epochs,class_weight={0:s,1:d,2:q,3:c},validation_split=0.2)\n",
    "model.summary()"
   ]
  },
  {
   "cell_type": "code",
   "execution_count": 1051,
   "metadata": {},
   "outputs": [
    {
     "name": "stdout",
     "output_type": "stream",
     "text": [
      "231/231 [==============================] - 0s 147us/step\n",
      "Test set\n",
      "  Loss: 1.307\n",
      "  Accuracy: 0.411\n"
     ]
    }
   ],
   "source": [
    "accr = model.evaluate(X_test,Y_test)\n",
    "print('Test set\\n  Loss: {:0.3f}\\n  Accuracy: {:0.3f}'.format(accr[0],accr[1]))"
   ]
  },
  {
   "cell_type": "code",
   "execution_count": 1052,
   "metadata": {},
   "outputs": [
    {
     "data": {
      "image/png": "[encoded data removed]",
      "text/plain": [
       "<Figure size 432x288 with 1 Axes>"
      ]
     },
     "metadata": {
      "needs_background": "light"
     },
     "output_type": "display_data"
    },
    {
     "data": {
      "image/png": "[encoded data removed]",
      "text/plain": [
       "<Figure size 432x288 with 1 Axes>"
      ]
     },
     "metadata": {
      "needs_background": "light"
     },
     "output_type": "display_data"
    }
   ],
   "source": [
    "import matplotlib.pyplot as plt\n",
    "\n",
    "acc = history.history['acc']\n",
    "val_acc = history.history['val_acc']\n",
    "loss = history.history['loss']\n",
    "val_loss = history.history['val_loss']\n",
    "\n",
    "epochs = range(1, len(acc) + 1)\n",
    "\n",
    "plt.plot(epochs, acc, 'bo', label='Training acc')\n",
    "plt.plot(epochs, val_acc, 'b', label='Validation acc')\n",
    "plt.title('Training and validation accuracy')\n",
    "plt.legend()\n",
    "\n",
    "plt.figure()\n",
    "\n",
    "plt.plot(epochs, loss, 'bo', label='Training loss')\n",
    "plt.plot(epochs, val_loss, 'b', label='Validation loss')\n",
    "plt.title('Training and validation loss')\n",
    "plt.legend()\n",
    "\n",
    "plt.show()"
   ]
  },
  {
   "cell_type": "code",
   "execution_count": 1053,
   "metadata": {},
   "outputs": [],
   "source": [
    "np_vec_shaped = np.reshape(np_vec_list,(np_vec_list.shape[0],1,np_vec_list.shape[1]))\n",
    "pred = model.predict(np_vec_shaped)"
   ]
  },
  {
   "cell_type": "code",
   "execution_count": 1054,
   "metadata": {},
   "outputs": [],
   "source": [
    "ary = []\n",
    "lb = ['supporting', 'denying', 'questioning', 'commenting']\n",
    "for i in range(pred.shape[0]):\n",
    "    ary.append(lb[np.argmax(pred[i])])"
   ]
  },
  {
   "cell_type": "code",
   "execution_count": 1055,
   "metadata": {},
   "outputs": [],
   "source": [
    "sup = [1.,0.,0.,0.]\n",
    "den = [0.,1.,0.,0.]\n",
    "que = [0.,0.,1.,0.]\n",
    "com = [0.,0.,0.,1.]"
   ]
  },
  {
   "cell_type": "code",
   "execution_count": 1056,
   "metadata": {},
   "outputs": [],
   "source": [
    "test = []\n",
    "for i in range(np_vec_shaped.shape[0]):\n",
    "    if( list(np_vec_shaped[i]) == sup ):\n",
    "        test.append('supporting')\n",
    "    elif( list(np_vec_shaped[i]) == den ):\n",
    "        test.append('denying')\n",
    "    elif( list(np_vec_shaped[i]) == que ):\n",
    "        test.append('questioning')\n",
    "    else:\n",
    "        test.append('commenting')\n"
   ]
  },
  {
   "cell_type": "code",
   "execution_count": 1057,
   "metadata": {},
   "outputs": [],
   "source": [
    "results = pd.DataFrame(test)\n",
    "results.columns = ['test']\n",
    "results['predictions'] = ary"
   ]
  },
  {
   "cell_type": "code",
   "execution_count": 1058,
   "metadata": {},
   "outputs": [
    {
     "data": {
      "text/html": [
       "<div>\n",
       "<style scoped>\n",
       "    .dataframe tbody tr th:only-of-type {\n",
       "        vertical-align: middle;\n",
       "    }\n",
       "\n",
       "    .dataframe tbody tr th {\n",
       "        vertical-align: top;\n",
       "    }\n",
       "\n",
       "    .dataframe thead th {\n",
       "        text-align: right;\n",
       "    }\n",
       "</style>\n",
       "<table border=\"1\" class=\"dataframe\">\n",
       "  <thead>\n",
       "    <tr style=\"text-align: right;\">\n",
       "      <th></th>\n",
       "      <th>test</th>\n",
       "      <th>predictions</th>\n",
       "    </tr>\n",
       "  </thead>\n",
       "  <tbody>\n",
       "    <tr>\n",
       "      <th>0</th>\n",
       "      <td>commenting</td>\n",
       "      <td>commenting</td>\n",
       "    </tr>\n",
       "    <tr>\n",
       "      <th>1</th>\n",
       "      <td>commenting</td>\n",
       "      <td>commenting</td>\n",
       "    </tr>\n",
       "    <tr>\n",
       "      <th>2</th>\n",
       "      <td>commenting</td>\n",
       "      <td>commenting</td>\n",
       "    </tr>\n",
       "    <tr>\n",
       "      <th>3</th>\n",
       "      <td>commenting</td>\n",
       "      <td>commenting</td>\n",
       "    </tr>\n",
       "    <tr>\n",
       "      <th>4</th>\n",
       "      <td>commenting</td>\n",
       "      <td>commenting</td>\n",
       "    </tr>\n",
       "  </tbody>\n",
       "</table>\n",
       "</div>"
      ],
      "text/plain": [
       "         test predictions\n",
       "0  commenting  commenting\n",
       "1  commenting  commenting\n",
       "2  commenting  commenting\n",
       "3  commenting  commenting\n",
       "4  commenting  commenting"
      ]
     },
     "execution_count": 1058,
     "metadata": {},
     "output_type": "execute_result"
    }
   ],
   "source": [
    "results.head()"
   ]
  },
  {
   "cell_type": "code",
   "execution_count": 1059,
   "metadata": {},
   "outputs": [
    {
     "data": {
      "text/plain": [
       "<matplotlib.axes._subplots.AxesSubplot at 0x2e3b81f97f0>"
      ]
     },
     "execution_count": 1059,
     "metadata": {},
     "output_type": "execute_result"
    },
    {
     "data": {
      "image/png": "[encoded data removed]",
      "text/plain": [
       "<Figure size 432x288 with 1 Axes>"
      ]
     },
     "metadata": {
      "needs_background": "light"
     },
     "output_type": "display_data"
    }
   ],
   "source": [
    "results.predictions.value_counts().plot(kind='bar')"
   ]
  },
  {
   "cell_type": "code",
   "execution_count": 1060,
   "metadata": {},
   "outputs": [
    {
     "name": "stdout",
     "output_type": "stream",
     "text": [
      "1155/1155 [==============================] - 0s 113us/step\n",
      "Test set\n",
      "  Loss: 1.264\n",
      "  Accuracy: 0.488\n"
     ]
    }
   ],
   "source": [
    "accr = model.evaluate(np_vec_shaped,labels)\n",
    "print('Test set\\n  Loss: {:0.3f}\\n  Accuracy: {:0.3f}'.format(accr[0],accr[1]))"
   ]
  },
  {
   "cell_type": "code",
   "execution_count": null,
   "metadata": {},
   "outputs": [],
   "source": []
  },
  {
   "cell_type": "code",
   "execution_count": null,
   "metadata": {},
   "outputs": [],
   "source": []
  },
  {
   "cell_type": "code",
   "execution_count": null,
   "metadata": {},
   "outputs": [],
   "source": []
  }
 ],
 "metadata": {
  "kernelspec": {
   "display_name": "Python 3",
   "language": "python",
   "name": "python3"
  },
  "language_info": {
   "codemirror_mode": {
    "name": "ipython",
    "version": 3
   },
   "file_extension": ".py",
   "mimetype": "text/x-python",
   "name": "python",
   "nbconvert_exporter": "python",
   "pygments_lexer": "ipython3",
   "version": "3.7.0b4"
  }
 },
 "nbformat": 4,
 "nbformat_minor": 2
}
